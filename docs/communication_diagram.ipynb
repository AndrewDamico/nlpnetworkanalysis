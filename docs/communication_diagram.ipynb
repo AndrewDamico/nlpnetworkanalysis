{
 "cells": [
  {
   "cell_type": "markdown",
   "metadata": {},
   "source": [
    "# Viper Communication Diagram\n",
    "\n",
    "The following Diagram shows the general communication pattern of the network, and is meant to \"humanize\" the process.\n",
    "* Thought bubbles indicate the logic being executed\n",
    "* Speech bubbles indicate either node-to-node communciation or broadcasts \"e.g. SHOUTING!\" which is heard by all nodes.\n",
    "* Circles are meant to show how a variable is being updated.\n",
    "* Callouts are stacked in the order by which they happen, with older messages on the bottom. They are also arranged in such a way that their placement relative to surrounding line-edges and callouts is significant.\n",
    "* line-edges represent formal relationships (e.g., processes) and the callouts should be read counter-clockwise \n",
    "\n",
    "**Fig. 1 Viper Process Diagram**\n",
    "\n",
    "\n",
    "![](viper_communication.png)\n",
    "\n"
   ]
  },
  {
   "cell_type": "code",
   "execution_count": null,
   "metadata": {},
   "outputs": [],
   "source": []
  }
 ],
 "metadata": {
  "kernelspec": {
   "display_name": "Python 3 (ipykernel)",
   "language": "python",
   "name": "python3"
  },
  "language_info": {
   "codemirror_mode": {
    "name": "ipython",
    "version": 3
   },
   "file_extension": ".py",
   "mimetype": "text/x-python",
   "name": "python",
   "nbconvert_exporter": "python",
   "pygments_lexer": "ipython3",
   "version": "3.8.10"
  },
  "widgets": {
   "application/vnd.jupyter.widget-state+json": {
    "state": {},
    "version_major": 2,
    "version_minor": 0
   }
  }
 },
 "nbformat": 4,
 "nbformat_minor": 4
}
