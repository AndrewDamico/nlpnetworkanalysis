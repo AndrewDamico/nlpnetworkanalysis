{
 "cells": [
  {
   "cell_type": "code",
   "execution_count": 5,
   "id": "166eeaff-01cb-4554-b8df-dddf5b3c8a24",
   "metadata": {},
   "outputs": [],
   "source": [
    "import re,string\n",
    "from nltk.corpus import stopwords\n",
    "from nltk.stem import PorterStemmer\n",
    "\n",
    "from sklearn.feature_extraction.text import TfidfVectorizer\n",
    "from sklearn.cluster import KMeans\n",
    "from sklearn.metrics.pairwise import cosine_similarity\n",
    "\n",
    "from sklearn.manifold import MDS\n",
    "\n",
    "\n",
    "from sklearn.preprocessing import LabelEncoder, OneHotEncoder\n",
    "from sklearn.ensemble import RandomForestClassifier\n",
    "from sklearn.metrics import roc_auc_score, accuracy_score, confusion_matrix\n",
    "from sklearn.model_selection import cross_val_score, StratifiedKFold\n",
    "from sklearn.tree import DecisionTreeClassifier\n",
    "import matplotlib.pyplot as plt\n",
    "from sklearn.model_selection import train_test_split, KFold\n",
    "\n",
    "import pandas as pd\n",
    "\n",
    "\n",
    "from gensim.models import Word2Vec,LdaMulticore, TfidfModel\n",
    "from gensim import corpora\n",
    "\n",
    "\n",
    "from gensim.models.doc2vec import Doc2Vec, TaggedDocument\n",
    "\n",
    "\n",
    "import numpy as np\n",
    "\n",
    "import multiprocessing\n",
    "import importlib\n",
    "import NLPPrep\n",
    "from NLPPrep import clean_doc, One_Hot, newsloader\n"
   ]
  },
  {
   "cell_type": "code",
   "execution_count": 17,
   "id": "fcdff92f-1eec-455b-9f12-2f83fb23bd68",
   "metadata": {},
   "outputs": [
    {
     "data": {
      "text/plain": "<module 'NLPPrep' from 'D:\\\\OneDrive - Northwestern University\\\\453 NLP\\\\nlpnetworkanalysis\\\\NLPPrep.py'>"
     },
     "execution_count": 17,
     "metadata": {},
     "output_type": "execute_result"
    }
   ],
   "source": [
    "importlib.reload(NLPPrep)\n"
   ]
  },
  {
   "cell_type": "code",
   "execution_count": 18,
   "id": "d40fa797-086e-4429-bdd3-74e63bc2a71f",
   "metadata": {},
   "outputs": [
    {
     "name": "stdout",
     "output_type": "stream",
     "text": [
      "Total files: 2\n",
      "Total records: 3735\n"
     ]
    },
    {
     "data": {
      "text/plain": "                                            headline        date doc_type  \\\n0  ‘Battling a Demon’: Drifter Sought Help Before...  2020-01-01  article   \n1  F.D.A. Plans to Ban Most E-Cigarette Flavors b...  2020-01-01  article   \n2  Hong Kong Protesters Return to Streets as New ...  2020-01-01  article   \n3  Kevin Spacey Accuser’s Estate Drops Sexual Ass...  2020-01-01  article   \n4    Dizzying Day for Trump Caps a Year Full of Them  2020-01-01  article   \n\n  type_of_material                                            snippet  \\\n0             News  The gunman who shot two parishioners at the We...   \n1             News  The tobacco and vaping industries and conserva...   \n2             News  Weeks of relative calm ended on Wednesday, as ...   \n3             News  A Los Angeles County massage therapist, who di...   \n4             News  The president monitored a Middle East crisis f...   \n\n               source   news_desk section_name  \\\n0  The New York Times    National         U.S.   \n1  The New York Times     Science       Health   \n2  The New York Times     Foreign        World   \n3  The New York Times     Express         U.S.   \n4  The New York Times  Washington         U.S.   \n\n                                            keywords  \n0  ['Churches (Buildings)', 'Murders, Attempted M...  \n1  ['E-Cigarettes', 'Recalls and Bans of Products...  \n2  ['Demonstrations, Protests and Riots', 'Hong K...  \n3  ['Sexual Harassment', 'Suits and Litigation (C...  \n4  ['United States International Relations', 'Uni...  ",
      "text/html": "<div>\n<style scoped>\n    .dataframe tbody tr th:only-of-type {\n        vertical-align: middle;\n    }\n\n    .dataframe tbody tr th {\n        vertical-align: top;\n    }\n\n    .dataframe thead th {\n        text-align: right;\n    }\n</style>\n<table border=\"1\" class=\"dataframe\">\n  <thead>\n    <tr style=\"text-align: right;\">\n      <th></th>\n      <th>headline</th>\n      <th>date</th>\n      <th>doc_type</th>\n      <th>type_of_material</th>\n      <th>snippet</th>\n      <th>source</th>\n      <th>news_desk</th>\n      <th>section_name</th>\n      <th>keywords</th>\n    </tr>\n  </thead>\n  <tbody>\n    <tr>\n      <th>0</th>\n      <td>‘Battling a Demon’: Drifter Sought Help Before...</td>\n      <td>2020-01-01</td>\n      <td>article</td>\n      <td>News</td>\n      <td>The gunman who shot two parishioners at the We...</td>\n      <td>The New York Times</td>\n      <td>National</td>\n      <td>U.S.</td>\n      <td>['Churches (Buildings)', 'Murders, Attempted M...</td>\n    </tr>\n    <tr>\n      <th>1</th>\n      <td>F.D.A. Plans to Ban Most E-Cigarette Flavors b...</td>\n      <td>2020-01-01</td>\n      <td>article</td>\n      <td>News</td>\n      <td>The tobacco and vaping industries and conserva...</td>\n      <td>The New York Times</td>\n      <td>Science</td>\n      <td>Health</td>\n      <td>['E-Cigarettes', 'Recalls and Bans of Products...</td>\n    </tr>\n    <tr>\n      <th>2</th>\n      <td>Hong Kong Protesters Return to Streets as New ...</td>\n      <td>2020-01-01</td>\n      <td>article</td>\n      <td>News</td>\n      <td>Weeks of relative calm ended on Wednesday, as ...</td>\n      <td>The New York Times</td>\n      <td>Foreign</td>\n      <td>World</td>\n      <td>['Demonstrations, Protests and Riots', 'Hong K...</td>\n    </tr>\n    <tr>\n      <th>3</th>\n      <td>Kevin Spacey Accuser’s Estate Drops Sexual Ass...</td>\n      <td>2020-01-01</td>\n      <td>article</td>\n      <td>News</td>\n      <td>A Los Angeles County massage therapist, who di...</td>\n      <td>The New York Times</td>\n      <td>Express</td>\n      <td>U.S.</td>\n      <td>['Sexual Harassment', 'Suits and Litigation (C...</td>\n    </tr>\n    <tr>\n      <th>4</th>\n      <td>Dizzying Day for Trump Caps a Year Full of Them</td>\n      <td>2020-01-01</td>\n      <td>article</td>\n      <td>News</td>\n      <td>The president monitored a Middle East crisis f...</td>\n      <td>The New York Times</td>\n      <td>Washington</td>\n      <td>U.S.</td>\n      <td>['United States International Relations', 'Uni...</td>\n    </tr>\n  </tbody>\n</table>\n</div>"
     },
     "execution_count": 18,
     "metadata": {},
     "output_type": "execute_result"
    }
   ],
   "source": [
    "news = newsloader(records = ['2020-1.csv', '2020-2.csv'])\n",
    "news[:5]\n"
   ]
  },
  {
   "cell_type": "markdown",
   "id": "06ca5c2a-bea1-4130-9bc1-64b20ad8e082",
   "metadata": {},
   "source": [
    "Combine the headline, keywords, and snippet into a single cell"
   ]
  },
  {
   "cell_type": "code",
   "execution_count": 20,
   "id": "210502a0-66f4-46ed-86d4-d88f581a4a75",
   "metadata": {},
   "outputs": [
    {
     "data": {
      "text/plain": "                                            headline  \\\n0  ‘Battling a Demon’: Drifter Sought Help Before...   \n1  F.D.A. Plans to Ban Most E-Cigarette Flavors b...   \n2  Hong Kong Protesters Return to Streets as New ...   \n3  Kevin Spacey Accuser’s Estate Drops Sexual Ass...   \n4    Dizzying Day for Trump Caps a Year Full of Them   \n\n                                             snippet  \\\n0  The gunman who shot two parishioners at the We...   \n1  The tobacco and vaping industries and conserva...   \n2  Weeks of relative calm ended on Wednesday, as ...   \n3  A Los Angeles County massage therapist, who di...   \n4  The president monitored a Middle East crisis f...   \n\n                                            keywords  \n0  ['Churches (Buildings)', 'Murders, Attempted M...  \n1  ['E-Cigarettes', 'Recalls and Bans of Products...  \n2  ['Demonstrations, Protests and Riots', 'Hong K...  \n3  ['Sexual Harassment', 'Suits and Litigation (C...  \n4  ['United States International Relations', 'Uni...  ",
      "text/html": "<div>\n<style scoped>\n    .dataframe tbody tr th:only-of-type {\n        vertical-align: middle;\n    }\n\n    .dataframe tbody tr th {\n        vertical-align: top;\n    }\n\n    .dataframe thead th {\n        text-align: right;\n    }\n</style>\n<table border=\"1\" class=\"dataframe\">\n  <thead>\n    <tr style=\"text-align: right;\">\n      <th></th>\n      <th>headline</th>\n      <th>snippet</th>\n      <th>keywords</th>\n    </tr>\n  </thead>\n  <tbody>\n    <tr>\n      <th>0</th>\n      <td>‘Battling a Demon’: Drifter Sought Help Before...</td>\n      <td>The gunman who shot two parishioners at the We...</td>\n      <td>['Churches (Buildings)', 'Murders, Attempted M...</td>\n    </tr>\n    <tr>\n      <th>1</th>\n      <td>F.D.A. Plans to Ban Most E-Cigarette Flavors b...</td>\n      <td>The tobacco and vaping industries and conserva...</td>\n      <td>['E-Cigarettes', 'Recalls and Bans of Products...</td>\n    </tr>\n    <tr>\n      <th>2</th>\n      <td>Hong Kong Protesters Return to Streets as New ...</td>\n      <td>Weeks of relative calm ended on Wednesday, as ...</td>\n      <td>['Demonstrations, Protests and Riots', 'Hong K...</td>\n    </tr>\n    <tr>\n      <th>3</th>\n      <td>Kevin Spacey Accuser’s Estate Drops Sexual Ass...</td>\n      <td>A Los Angeles County massage therapist, who di...</td>\n      <td>['Sexual Harassment', 'Suits and Litigation (C...</td>\n    </tr>\n    <tr>\n      <th>4</th>\n      <td>Dizzying Day for Trump Caps a Year Full of Them</td>\n      <td>The president monitored a Middle East crisis f...</td>\n      <td>['United States International Relations', 'Uni...</td>\n    </tr>\n  </tbody>\n</table>\n</div>"
     },
     "execution_count": 20,
     "metadata": {},
     "output_type": "execute_result"
    }
   ],
   "source": [
    "news[['headline', 'snippet', 'keywords']][:5]"
   ]
  },
  {
   "cell_type": "code",
   "execution_count": 21,
   "id": "b81504a7-3f5b-490c-9873-4889f6b44c0c",
   "metadata": {},
   "outputs": [],
   "source": [
    "news.to_csv('samples.csv')"
   ]
  },
  {
   "cell_type": "code",
   "execution_count": 22,
   "id": "a3e36f67-be66-49d5-b13a-d7bcbf6a3455",
   "metadata": {},
   "outputs": [
    {
     "data": {
      "text/plain": "3735"
     },
     "execution_count": 22,
     "metadata": {},
     "output_type": "execute_result"
    }
   ],
   "source": [
    "len(news)"
   ]
  },
  {
   "cell_type": "code",
   "execution_count": 25,
   "id": "5d6ec57f-90a7-4310-a38c-1e9b236e3f60",
   "metadata": {},
   "outputs": [
    {
     "name": "stdout",
     "output_type": "stream",
     "text": [
      "Total NA in headline: 0\n",
      "Total NA in Snippet: 10\n",
      "Total NA in Keywords: 0\n"
     ]
    }
   ],
   "source": [
    "def Num_na(df):\n",
    "    print (f\"Total NA in headline: {sum(df['headline'].isna())}\")\n",
    "    print (f\"Total NA in Snippet: {sum(df['snippet'].isna())}\")\n",
    "    print (f\"Total NA in Keywords: {sum(df['keywords'].isna())}\")\n",
    "Num_na(news)"
   ]
  },
  {
   "cell_type": "code",
   "execution_count": 11,
   "id": "81818f28-4c17-4bce-be6a-606a014b675d",
   "metadata": {},
   "outputs": [
    {
     "name": "stdout",
     "output_type": "stream",
     "text": [
      "Total NA in headline: 0\n",
      "Total NA in Snippet: 0\n",
      "Total NA in Keywords: 0\n"
     ]
    }
   ],
   "source": [
    "news[\"headline\"] = news[\"headline\"].fillna(\" \")\n",
    "news[\"snippet\"] = news[\"snippet\"].fillna(\" \")\n",
    "Num_na(news)"
   ]
  },
  {
   "cell_type": "code",
   "execution_count": 28,
   "id": "172498de-5aed-4562-b299-dc4db8616f1a",
   "metadata": {},
   "outputs": [],
   "source": [
    "news['articles'] = news['headline']+\" \"+news['snippet'] + \" \" + news['keywords']\n",
    "#pd.DataFrame(news['articles'][3])"
   ]
  },
  {
   "cell_type": "code",
   "execution_count": 13,
   "id": "8cda3556-0c7b-4e37-8fb8-ba614bfd7e4b",
   "metadata": {},
   "outputs": [
    {
     "data": {
      "text/plain": [
       "\"Kevin Spacey Accuser’s Estate Drops Sexual Assault Lawsuit A Los Angeles County massage therapist, who died in September, had accused Mr. Spacey of groping him and making improper advances during a 2016 massage. ['Sexual Harassment', 'Suits and Litigation (Civil)', 'Movies', '#MeToo Movement', 'Television', 'ACTORS AND ACTRESSES', 'Massage', 'Sex Crimes', 'Academy Awards (Oscars)', 'Golden Globes (Awards)', 'Tony Awards (Theater Awards)']\""
      ]
     },
     "execution_count": 13,
     "metadata": {},
     "output_type": "execute_result"
    }
   ],
   "source": [
    "news['articles'][3]"
   ]
  },
  {
   "cell_type": "raw",
   "id": "9c75fba8-ab76-4610-bc9b-a6b5d1af3dee",
   "metadata": {},
   "source": [
    "news['articles'] = news['keywords']\n",
    "news['articles'][0]"
   ]
  },
  {
   "cell_type": "code",
   "execution_count": 14,
   "id": "205c6f85-88c8-4227-9d81-2f1ba5ae4165",
   "metadata": {},
   "outputs": [],
   "source": [
    "titles = []\n",
    "articles = []"
   ]
  },
  {
   "cell_type": "code",
   "execution_count": 15,
   "id": "42aa9d3b-cdd6-4a5e-864f-5e9b6a46d749",
   "metadata": {},
   "outputs": [
    {
     "data": {
      "text/plain": [
       "47078"
      ]
     },
     "execution_count": 15,
     "metadata": {},
     "output_type": "execute_result"
    }
   ],
   "source": [
    "titles = news['headline']\n",
    "len(titles)"
   ]
  },
  {
   "cell_type": "code",
   "execution_count": 16,
   "id": "919cc12f-dc32-4919-9380-d621bfe54c0e",
   "metadata": {},
   "outputs": [
    {
     "name": "stdout",
     "output_type": "stream",
     "text": [
      "47078\n"
     ]
    },
    {
     "data": {
      "text/plain": [
       "\"‘Battling a Demon’: Drifter Sought Help Before Texas Church Shooting The gunman who shot two parishioners at the West Freeway Church of Christ had come earlier looking for food and money, church leaders said. ['Churches (Buildings)', 'Murders, Attempted Murders and Homicides']\""
      ]
     },
     "execution_count": 16,
     "metadata": {},
     "output_type": "execute_result"
    }
   ],
   "source": [
    "articles = news['articles'].tolist()\n",
    "print (len(articles))\n",
    "articles[0]"
   ]
  },
  {
   "cell_type": "code",
   "execution_count": 17,
   "id": "83b5579c-7162-40e9-85f1-70e98bd828b9",
   "metadata": {},
   "outputs": [],
   "source": [
    "processed_text = []"
   ]
  },
  {
   "cell_type": "code",
   "execution_count": 18,
   "id": "adba9596-bee6-4163-be3c-b0be1c40d94f",
   "metadata": {},
   "outputs": [
    {
     "data": {
      "text/plain": [
       "\"Dizzying Day for Trump Caps a Year Full of Them The president monitored a Middle East crisis from his golf club, threatened Iran and implored reporters to be “honorable” in 2020. ['United States International Relations', 'United States Politics and Government', 'Trump-Ukraine Whistle-blower Complaint and Impeachment Inquiry']\""
      ]
     },
     "execution_count": 18,
     "metadata": {},
     "output_type": "execute_result"
    }
   ],
   "source": [
    "articles[4]"
   ]
  },
  {
   "cell_type": "code",
   "execution_count": 19,
   "id": "6532ad83-6fef-4e3e-be3f-705d2264779d",
   "metadata": {},
   "outputs": [
    {
     "name": "stdout",
     "output_type": "stream",
     "text": [
      "47078\n"
     ]
    }
   ],
   "source": [
    "for i in articles:\n",
    "    text = clean_doc(i)\n",
    "    processed_text.append(text)\n",
    "print (len(processed_text))"
   ]
  },
  {
   "cell_type": "code",
   "execution_count": 20,
   "id": "90c362f4-3c16-4610-aae0-b6502cbbb6e6",
   "metadata": {},
   "outputs": [],
   "source": [
    "final_processed_text = []"
   ]
  },
  {
   "cell_type": "code",
   "execution_count": 21,
   "id": "c99666d7-efde-41db-abab-f0b9e5ea096c",
   "metadata": {},
   "outputs": [
    {
     "data": {
      "text/plain": [
       "0"
      ]
     },
     "execution_count": 21,
     "metadata": {},
     "output_type": "execute_result"
    }
   ],
   "source": [
    "len(final_processed_text)"
   ]
  },
  {
   "cell_type": "code",
   "execution_count": 22,
   "id": "45285cae-c78c-4b64-b60d-99526eb8d67f",
   "metadata": {},
   "outputs": [
    {
     "data": {
      "text/plain": [
       "47078"
      ]
     },
     "execution_count": 22,
     "metadata": {},
     "output_type": "execute_result"
    }
   ],
   "source": [
    "len(news)"
   ]
  },
  {
   "cell_type": "code",
   "execution_count": 23,
   "id": "4696f68a-ba34-4be6-ad88-d45e05a9381c",
   "metadata": {},
   "outputs": [
    {
     "data": {
      "text/plain": [
       "47078"
      ]
     },
     "execution_count": 23,
     "metadata": {},
     "output_type": "execute_result"
    }
   ],
   "source": [
    "for i in processed_text:\n",
    "    if bool(i) == False:\n",
    "        i = \"error\"\n",
    "\n",
    "    temp_DSI = i[0]\n",
    "    for j in range(1, len(i)):\n",
    "        temp_DSI = temp_DSI+' '+i[j]\n",
    "    final_processed_text.append(temp_DSI)\n",
    "len(final_processed_text)"
   ]
  },
  {
   "cell_type": "code",
   "execution_count": 24,
   "id": "44d92222-207e-4cbe-a6ac-45b184a59cda",
   "metadata": {},
   "outputs": [
    {
     "data": {
      "text/plain": [
       "['drifter sought texas church shooting gunman parishioners freeway church christ earlier looking money church leaders churches buildings murders attempted murders homicides',\n",
       " 'plans ecigarette flavors menthol tobacco vaping industries conservative allies intensively lobbied popular flavored ecigarettes ecigarettes recalls products menthol nicotine teenagers adolescence regulation deregulation industry smoking tobacco lobbying lobbyists united states politics government yourfeedhealthcare',\n",
       " 'protesters return streets begins weeks relative ended wednesday people marched large numbers police deployed pepper spray demonstrations protests riots protests',\n",
       " 'kevin spacey estate drops sexual assault lawsuit angeles county massage therapist september accused spacey groping making improper advances massage sexual harassment suits litigation civil movies metoo movement television actors actresses massage crimes academy awards oscars golden globes awards awards theater awards',\n",
       " 'dizzying trump president monitored middle crisis threatened implored reporters united states international relations united states politics government trumpukraine whistleblower complaint impeachment inquiry']"
      ]
     },
     "execution_count": 24,
     "metadata": {},
     "output_type": "execute_result"
    }
   ],
   "source": [
    "final_processed_text[:5]"
   ]
  },
  {
   "cell_type": "markdown",
   "id": "710c1e27-7286-4077-8bea-18713c245c9b",
   "metadata": {},
   "source": [
    "## TFIDF Values"
   ]
  },
  {
   "cell_type": "code",
   "execution_count": 61,
   "id": "28f5b316-0e4a-4f6e-996c-4921e3f5a60c",
   "metadata": {
    "tags": []
   },
   "outputs": [],
   "source": [
    "Tfidf=TfidfVectorizer(\n",
    "    sublinear_tf = True,\n",
    "    min_df = 5,\n",
    "    ngram_range=(1,2), \n",
    "    stop_words = 'english',\n",
    "    strip_accents= 'unicode', \n",
    "    dtype=np.float32\n",
    ")"
   ]
  },
  {
   "cell_type": "code",
   "execution_count": 62,
   "id": "238774cc-ecdf-4b75-828d-df153cfd190c",
   "metadata": {},
   "outputs": [],
   "source": [
    "TFIDF_matrix = Tfidf.fit_transform(final_processed_text)"
   ]
  },
  {
   "cell_type": "code",
   "execution_count": 63,
   "id": "1974f221-8ccc-45a8-b0ad-2f0aa3afe23b",
   "metadata": {},
   "outputs": [],
   "source": [
    "matrix = pd.DataFrame(TFIDF_matrix.toarray(), \n",
    "                      columns = Tfidf.get_feature_names_out(),\n",
    "                      index = titles\n",
    "                     )"
   ]
  },
  {
   "cell_type": "code",
   "execution_count": 64,
   "id": "8d9ac89e-4068-48aa-843d-6ebfe1c404d8",
   "metadata": {},
   "outputs": [],
   "source": [
    "average_TFIDF = {}"
   ]
  },
  {
   "cell_type": "code",
   "execution_count": 65,
   "id": "0566a21a-6f08-48ab-9027-0c81f384c28d",
   "metadata": {},
   "outputs": [],
   "source": [
    "for i in matrix.columns:\n",
    "    average_TFIDF[i] = np.mean(matrix[i])"
   ]
  },
  {
   "cell_type": "code",
   "execution_count": 66,
   "id": "3b98e47e-f760-434f-a34b-0d748ff3773c",
   "metadata": {},
   "outputs": [],
   "source": [
    "average_TFIDF_DF=pd.DataFrame(average_TFIDF,index=[0]).transpose()"
   ]
  },
  {
   "cell_type": "code",
   "execution_count": 67,
   "id": "f8912fc5-7af4-4581-939e-88d3f90c1a02",
   "metadata": {},
   "outputs": [],
   "source": [
    "average_TFIDF_DF.columns=['TFIDF']"
   ]
  },
  {
   "cell_type": "code",
   "execution_count": 68,
   "id": "268fed01-1ca0-4b8d-8db1-d7f8182266d0",
   "metadata": {},
   "outputs": [],
   "source": [
    "Q1=np.percentile(average_TFIDF_DF, 25)\n",
    "Q3=np.percentile(average_TFIDF_DF, 75)\n",
    "IQR = Q3 - Q1\n",
    "outlier=Q3+(1.5*IQR)"
   ]
  },
  {
   "cell_type": "code",
   "execution_count": 69,
   "id": "423856cf-5d80-4ebe-a523-08bc16c96812",
   "metadata": {},
   "outputs": [],
   "source": [
    "average_TFIDF_DF.sort_values(by=\"TFIDF\", ascending=False).to_csv(\"TFIDF.csv\")"
   ]
  },
  {
   "cell_type": "code",
   "execution_count": 70,
   "id": "d28b3878-49f6-48ab-a884-227221b20a5e",
   "metadata": {},
   "outputs": [],
   "source": [
    "documents = [TaggedDocument(doc, [i]) for i, doc in enumerate(final_processed_text)]"
   ]
  },
  {
   "cell_type": "code",
   "execution_count": 71,
   "id": "2bfaad4b-18fe-46d3-b3e1-067a65a35852",
   "metadata": {},
   "outputs": [
    {
     "name": "stdout",
     "output_type": "stream",
     "text": [
      "Total Cores: 8\n"
     ]
    }
   ],
   "source": [
    "cores = multiprocessing.cpu_count()\n",
    "print (f'Total Cores: {cores}')\n",
    "model = Doc2Vec(documents, \n",
    "                vector_size = 100, \n",
    "                window = 2, \n",
    "                min_count = 2, \n",
    "                workers = cores)"
   ]
  },
  {
   "cell_type": "code",
   "execution_count": 72,
   "id": "b246b553-c335-4f94-8c18-f23d0db8a1d7",
   "metadata": {},
   "outputs": [],
   "source": [
    "doc2vec_df=pd.DataFrame()\n",
    "for i in range(0,len(processed_text)):\n",
    "    vector=pd.DataFrame(model.infer_vector(processed_text[i])).transpose()\n",
    "    doc2vec_df=pd.concat([doc2vec_df,vector], axis=0)\n",
    "\n",
    "doc2vec_df=doc2vec_df.reset_index()\n",
    "\n",
    "doc_titles={'title': titles}\n",
    "t=pd.DataFrame(doc_titles)\n",
    "\n",
    "doc2vec_df=pd.concat([doc2vec_df,t], axis=1)\n",
    "\n",
    "doc2vec_df=doc2vec_df.drop('index', axis=1)"
   ]
  },
  {
   "cell_type": "code",
   "execution_count": 73,
   "id": "39ad5f93-43b4-4aef-9450-d82edee85fc4",
   "metadata": {},
   "outputs": [],
   "source": [
    "model_w2v = Word2Vec(processed_text, \n",
    "                     vector_size = 100, \n",
    "                     window = 5, \n",
    "                     min_count = 1, \n",
    "                     workers = cores)"
   ]
  },
  {
   "cell_type": "code",
   "execution_count": 74,
   "id": "de089734-d324-42f8-9183-b313c4ef7b85",
   "metadata": {},
   "outputs": [],
   "source": [
    "\n",
    "\n",
    "#join all processed DSI words into single list\n",
    "processed_text_w2v=[]\n",
    "for i in processed_text:\n",
    "    for k in i:\n",
    "        processed_text_w2v.append(k)\n",
    "\n",
    "#obtian all the unique words from DSI\n",
    "w2v_words=list(set(processed_text_w2v))\n",
    "\n",
    "#can also use the get_feature_names() from TFIDF to get the list of words\n",
    "#w2v_words=Tfidf.get_feature_names()\n",
    "\n",
    "#empty dictionary to store words with vectors\n",
    "w2v_vectors={}\n",
    "\n",
    "#for loop to obtain weights for each word\n",
    "for i in w2v_words:\n",
    "    temp_vec=model_w2v.wv[i]\n",
    "    w2v_vectors[i]=temp_vec\n",
    "\n",
    "#create a final dataframe to view word vectors\n",
    "w2v_df=pd.DataFrame(w2v_vectors).transpose()\n",
    "\n",
    "\n",
    "#the following section runs applies the k-means algorithm on the TFIDF matrix."
   ]
  },
  {
   "cell_type": "markdown",
   "id": "a86fca98-e4c4-45af-9f60-59a804867c31",
   "metadata": {},
   "source": [
    "## ELbows"
   ]
  },
  {
   "cell_type": "code",
   "execution_count": 81,
   "id": "c065bae3-b3b9-407b-8461-edcca7f03f38",
   "metadata": {},
   "outputs": [],
   "source": [
    "from sklearn.cluster import KMeans\n",
    "from sklearn.datasets import make_blobs\n",
    "from yellowbrick.cluster import KElbowVisualizer\n",
    "from scipy.sparse import csr_matrix\n",
    "from sklearn.datasets import make_blobs\n",
    "from sklearn.cluster import KMeans\n",
    "from sklearn.metrics import silhouette_samples, silhouette_score\n",
    "\n",
    "import matplotlib.pyplot as plt\n",
    "import matplotlib.cm as cm\n",
    "import numpy as np"
   ]
  },
  {
   "cell_type": "code",
   "execution_count": 83,
   "id": "cc6abf6e-645e-4d63-a3a4-ad6ed66d326c",
   "metadata": {
    "tags": []
   },
   "outputs": [
    {
     "data": {
      "image/png": "[encoded data removed]",
      "text/plain": [
       "<Figure size 576x396 with 2 Axes>"
      ]
     },
     "metadata": {},
     "output_type": "display_data"
    },
    {
     "data": {
      "text/plain": [
       "<AxesSubplot:title={'center':'Silhouette Score Elbow for KMeans Clustering'}, xlabel='k', ylabel='silhouette score'>"
      ]
     },
     "execution_count": 83,
     "metadata": {},
     "output_type": "execute_result"
    }
   ],
   "source": [
    "matrix = TFIDF_matrix\n",
    "\n",
    "model = KMeans()\n",
    "visualizer = KElbowVisualizer(model, \n",
    "                              k = (2, 9), \n",
    "                              metric = 'silhouette', \n",
    "                              timings = True\n",
    "    )\n",
    "\n",
    "visualizer.fit(matrix)\n",
    "visualizer.show()"
   ]
  },
  {
   "cell_type": "markdown",
   "id": "4714faf9-948e-4580-87ed-83d061fbfd03",
   "metadata": {},
   "source": [
    "## Backup"
   ]
  },
  {
   "cell_type": "code",
   "execution_count": null,
   "id": "479ba3bf-289f-43b0-a010-45beae33e0c0",
   "metadata": {
    "tags": []
   },
   "outputs": [],
   "source": [
    "def elbow_method(matrix, lower, upper, seed=None):\n",
    "    # Plot the distortions for each potential value of k\n",
    "    distortions = []\n",
    "    K = range(lower,upper)\n",
    "\n",
    "    for k in K:\n",
    "        model = KMeans(k, random_state=seed)\n",
    "        model.fit(matrix)\n",
    "        distortions.append(model.inertia_)\n",
    "    \n",
    "    plt.figure(figsize=(16,8))\n",
    "    plt.plot(K, distortions, 'xb-')\n",
    "    plt.xlabel('k')\n",
    "    plt.ylabel('Distortion')\n",
    "    plt.title('The Elbow Method with optimal k')\n",
    "    \n",
    "    return plt.show()\n",
    "\n",
    "elbow_method(TFIDF_matrix, 3, 10, seed=6)"
   ]
  },
  {
   "cell_type": "raw",
   "id": "2cc0c770-452d-418a-8266-27eb6fad8c1e",
   "metadata": {
    "tags": []
   },
   "source": [
    "clusterer"
   ]
  },
  {
   "cell_type": "raw",
   "id": "802a81fe-4414-4ba7-91dc-31847f1b0b13",
   "metadata": {
    "tags": []
   },
   "source": [
    "# Generating the sample data from make_blobs\n",
    "# This particular setting has one distinct cluster and 3 clusters placed close\n",
    "# together.\n",
    "X, y = make_blobs(\n",
    "    n_samples=500,\n",
    "    n_features=2,\n",
    "    centers=4,\n",
    "    cluster_std=1,\n",
    "    center_box=(-10.0, 10.0),\n",
    "    shuffle=True,\n",
    "    random_state=1,\n",
    ")  # For reproducibility\n",
    "\n",
    "range_n_clusters = [2, 3, 4, 5, 6]\n",
    "\n",
    "for n_clusters in range_n_clusters:\n",
    "    # Create a subplot with 1 row and 2 columns\n",
    "    fig, (ax1, ax2) = plt.subplots(1, 2)\n",
    "    fig.set_size_inches(18, 7)\n",
    "\n",
    "    # The 1st subplot is the silhouette plot\n",
    "    # The silhouette coefficient can range from -1, 1 but in this example all\n",
    "    # lie within [-0.1, 1]\n",
    "    ax1.set_xlim([-0.1, 1])\n",
    "    # The (n_clusters+1)*10 is for inserting blank space between silhouette\n",
    "    # plots of individual clusters, to demarcate them clearly.\n",
    "    ax1.set_ylim([0, len(X) + (n_clusters + 1) * 10])\n",
    "\n",
    "    # Initialize the clusterer with n_clusters value and a random generator\n",
    "    # seed of 10 for reproducibility.\n",
    "    clusterer = KMeans(n_clusters=n_clusters, random_state=10)\n",
    "    cluster_labels = clusterer.fit_predict(X)\n",
    "\n",
    "    # The silhouette_score gives the average value for all the samples.\n",
    "    # This gives a perspective into the density and separation of the formed\n",
    "    # clusters\n",
    "    silhouette_avg = silhouette_score(X, cluster_labels)\n",
    "    print(\n",
    "        \"For n_clusters =\",\n",
    "        n_clusters,\n",
    "        \"The average silhouette_score is :\",\n",
    "        silhouette_avg,\n",
    "    )\n",
    "\n",
    "    # Compute the silhouette scores for each sample\n",
    "    sample_silhouette_values = silhouette_samples(X, cluster_labels)\n",
    "\n",
    "    y_lower = 10\n",
    "    for i in range(n_clusters):\n",
    "        # Aggregate the silhouette scores for samples belonging to\n",
    "        # cluster i, and sort them\n",
    "        ith_cluster_silhouette_values = sample_silhouette_values[cluster_labels == i]\n",
    "\n",
    "        ith_cluster_silhouette_values.sort()\n",
    "\n",
    "        size_cluster_i = ith_cluster_silhouette_values.shape[0]\n",
    "        y_upper = y_lower + size_cluster_i\n",
    "\n",
    "        color = cm.nipy_spectral(float(i) / n_clusters)\n",
    "        ax1.fill_betweenx(\n",
    "            np.arange(y_lower, y_upper),\n",
    "            0,\n",
    "            ith_cluster_silhouette_values,\n",
    "            facecolor=color,\n",
    "            edgecolor=color,\n",
    "            alpha=0.7,\n",
    "        )\n",
    "\n",
    "        # Label the silhouette plots with their cluster numbers at the middle\n",
    "        ax1.text(-0.05, y_lower + 0.5 * size_cluster_i, str(i))\n",
    "\n",
    "        # Compute the new y_lower for next plot\n",
    "        y_lower = y_upper + 10  # 10 for the 0 samples\n",
    "\n",
    "    ax1.set_title(\"The silhouette plot for the various clusters.\")\n",
    "    ax1.set_xlabel(\"The silhouette coefficient values\")\n",
    "    ax1.set_ylabel(\"Cluster label\")\n",
    "\n",
    "    # The vertical line for average silhouette score of all the values\n",
    "    ax1.axvline(x=silhouette_avg, color=\"red\", linestyle=\"--\")\n",
    "\n",
    "    ax1.set_yticks([])  # Clear the yaxis labels / ticks\n",
    "    ax1.set_xticks([-0.1, 0, 0.2, 0.4, 0.6, 0.8, 1])\n",
    "\n",
    "    # 2nd Plot showing the actual clusters formed\n",
    "    colors = cm.nipy_spectral(cluster_labels.astype(float) / n_clusters)\n",
    "    ax2.scatter(\n",
    "        X[:, 0], X[:, 1], marker=\".\", s=30, lw=0, alpha=0.7, c=colors, edgecolor=\"k\"\n",
    "    )\n",
    "\n",
    "    # Labeling the clusters\n",
    "    centers = clusterer.cluster_centers_\n",
    "    # Draw white circles at cluster centers\n",
    "    ax2.scatter(\n",
    "        centers[:, 0],\n",
    "        centers[:, 1],\n",
    "        marker=\"o\",\n",
    "        c=\"white\",\n",
    "        alpha=1,\n",
    "        s=200,\n",
    "        edgecolor=\"k\",\n",
    "    )\n",
    "\n",
    "    for i, c in enumerate(centers):\n",
    "        ax2.scatter(c[0], c[1], marker=\"$%d$\" % i, alpha=1, s=50, edgecolor=\"k\")\n",
    "\n",
    "    ax2.set_title(\"The visualization of the clustered data.\")\n",
    "    ax2.set_xlabel(\"Feature space for the 1st feature\")\n",
    "    ax2.set_ylabel(\"Feature space for the 2nd feature\")\n",
    "\n",
    "    plt.suptitle(\n",
    "        \"Silhouette analysis for KMeans clustering on sample data with n_clusters = %d\"\n",
    "        % n_clusters,\n",
    "        fontsize=14,\n",
    "        fontweight=\"bold\",\n",
    "    )\n",
    "\n",
    "plt.show()"
   ]
  },
  {
   "cell_type": "code",
   "execution_count": null,
   "id": "2fefb0db-d930-441a-9817-ffcfee632ecc",
   "metadata": {
    "tags": []
   },
   "outputs": [],
   "source": [
    "from sklearn.metrics import silhouette_samples, silhouette_score\n",
    "from kneed import KneeLocator\n",
    "#import matplotlib.pyplot as plt\n",
    "#import matplotlib.cm as cm\n",
    "#import numpy as np"
   ]
  },
  {
   "cell_type": "code",
   "execution_count": null,
   "id": "fedc594b-eb3a-48e9-88b5-7c31a10f35d0",
   "metadata": {
    "tags": []
   },
   "outputs": [],
   "source": [
    "list(range(2, 5))"
   ]
  },
  {
   "cell_type": "code",
   "execution_count": null,
   "id": "c282d447-d09e-4ce0-be55-b109ba45a682",
   "metadata": {
    "tags": []
   },
   "outputs": [],
   "source": [
    "import random\n",
    "import matplotlib.patches as mpatches\n",
    "from varname import nameof"
   ]
  },
  {
   "cell_type": "code",
   "execution_count": null,
   "id": "a04765b4-d816-474c-bd16-a539aec3bfc7",
   "metadata": {
    "tags": []
   },
   "outputs": [],
   "source": [
    " random.randrange(10)"
   ]
  },
  {
   "cell_type": "code",
   "execution_count": null,
   "id": "db99ccf8-6a5d-480d-b450-093fc5c51cca",
   "metadata": {
    "tags": []
   },
   "outputs": [],
   "source": [
    "from kneed import KneeLocator, DataGenerator as dg\n",
    "x, y = dg.convex_decreasing()\n",
    "kl = KneeLocator(x, y, curve=\"convex\", direction=\"decreasing\")\n",
    "kl.plot_knee()"
   ]
  },
  {
   "cell_type": "code",
   "execution_count": 85,
   "id": "315c3b70-e59c-4255-b648-ab85c386df3d",
   "metadata": {
    "tags": []
   },
   "outputs": [
    {
     "name": "stdout",
     "output_type": "stream",
     "text": [
      "Seed: 4188493\n"
     ]
    },
    {
     "ename": "NameError",
     "evalue": "name 'argname' is not defined",
     "output_type": "error",
     "traceback": [
      "\u001B[1;31m---------------------------------------------------------------------------\u001B[0m",
      "\u001B[1;31mNameError\u001B[0m                                 Traceback (most recent call last)",
      "\u001B[1;32m~\\AppData\\Local\\Temp\\ipykernel_7524\\1272769047.py\u001B[0m in \u001B[0;36m<module>\u001B[1;34m\u001B[0m\n\u001B[0;32m     59\u001B[0m     \u001B[1;32mreturn\u001B[0m \u001B[0mplt\u001B[0m\u001B[1;33m.\u001B[0m\u001B[0mshow\u001B[0m\u001B[1;33m(\u001B[0m\u001B[1;33m)\u001B[0m\u001B[1;33m\u001B[0m\u001B[1;33m\u001B[0m\u001B[0m\n\u001B[0;32m     60\u001B[0m \u001B[1;33m\u001B[0m\u001B[0m\n\u001B[1;32m---> 61\u001B[1;33m \u001B[0melbow_method\u001B[0m\u001B[1;33m(\u001B[0m\u001B[0mTFIDF_matrix\u001B[0m\u001B[1;33m,\u001B[0m \u001B[1;36m2\u001B[0m\u001B[1;33m,\u001B[0m \u001B[1;36m7\u001B[0m\u001B[1;33m)\u001B[0m\u001B[1;33m\u001B[0m\u001B[1;33m\u001B[0m\u001B[0m\n\u001B[0m",
      "\u001B[1;32m~\\AppData\\Local\\Temp\\ipykernel_7524\\1272769047.py\u001B[0m in \u001B[0;36melbow_method\u001B[1;34m(matrix, lower, upper, seed, knee)\u001B[0m\n\u001B[0;32m     46\u001B[0m     \u001B[0mfig\u001B[0m\u001B[1;33m,\u001B[0m \u001B[0max1\u001B[0m \u001B[1;33m=\u001B[0m \u001B[0mplt\u001B[0m\u001B[1;33m.\u001B[0m\u001B[0msubplots\u001B[0m\u001B[1;33m(\u001B[0m\u001B[1;33m)\u001B[0m\u001B[1;33m\u001B[0m\u001B[1;33m\u001B[0m\u001B[0m\n\u001B[0;32m     47\u001B[0m \u001B[1;33m\u001B[0m\u001B[0m\n\u001B[1;32m---> 48\u001B[1;33m     \u001B[0max1\u001B[0m \u001B[1;33m=\u001B[0m \u001B[0mbestk_plot\u001B[0m\u001B[1;33m(\u001B[0m\u001B[0max1\u001B[0m\u001B[1;33m,\u001B[0m \u001B[0mK\u001B[0m\u001B[1;33m,\u001B[0m \u001B[0mdistortions\u001B[0m\u001B[1;33m,\u001B[0m \u001B[1;34m'tab:red'\u001B[0m\u001B[1;33m,\u001B[0m \u001B[0mdraw_knee\u001B[0m\u001B[1;33m=\u001B[0m\u001B[1;32mTrue\u001B[0m\u001B[1;33m,\u001B[0m \u001B[0mcurve\u001B[0m\u001B[1;33m=\u001B[0m\u001B[1;34m'convex'\u001B[0m\u001B[1;33m,\u001B[0m \u001B[0mdirection\u001B[0m\u001B[1;33m=\u001B[0m\u001B[1;34m'decreasing'\u001B[0m\u001B[1;33m)\u001B[0m\u001B[1;33m\u001B[0m\u001B[1;33m\u001B[0m\u001B[0m\n\u001B[0m\u001B[0;32m     49\u001B[0m     \u001B[1;31m#ax2 = bestk_plot(ax1, K, silhouettes, 'tab:blue', True,'concave', 'increasing', twinx=True)\u001B[0m\u001B[1;33m\u001B[0m\u001B[1;33m\u001B[0m\u001B[1;33m\u001B[0m\u001B[0m\n\u001B[0;32m     50\u001B[0m     \u001B[0max3\u001B[0m \u001B[1;33m=\u001B[0m \u001B[0max1\u001B[0m\u001B[1;33m.\u001B[0m\u001B[0mtwinx\u001B[0m\u001B[1;33m(\u001B[0m\u001B[1;33m)\u001B[0m\u001B[1;33m\u001B[0m\u001B[1;33m\u001B[0m\u001B[0m\n",
      "\u001B[1;32m~\\AppData\\Local\\Temp\\ipykernel_7524\\1272769047.py\u001B[0m in \u001B[0;36mbestk_plot\u001B[1;34m(axis, x, y, color, draw_knee, curve, direction, twinx)\u001B[0m\n\u001B[0;32m     23\u001B[0m         \u001B[1;32melse\u001B[0m\u001B[1;33m:\u001B[0m\u001B[1;33m\u001B[0m\u001B[1;33m\u001B[0m\u001B[0m\n\u001B[0;32m     24\u001B[0m             \u001B[0max\u001B[0m \u001B[1;33m=\u001B[0m \u001B[0maxis\u001B[0m\u001B[1;33m\u001B[0m\u001B[1;33m\u001B[0m\u001B[0m\n\u001B[1;32m---> 25\u001B[1;33m             \u001B[0max\u001B[0m\u001B[1;33m.\u001B[0m\u001B[0mset_xlabel\u001B[0m\u001B[1;33m(\u001B[0m\u001B[0margname\u001B[0m\u001B[1;33m(\u001B[0m\u001B[1;34m'x'\u001B[0m\u001B[1;33m)\u001B[0m\u001B[1;33m)\u001B[0m\u001B[1;33m\u001B[0m\u001B[1;33m\u001B[0m\u001B[0m\n\u001B[0m\u001B[0;32m     26\u001B[0m         \u001B[0max\u001B[0m\u001B[1;33m.\u001B[0m\u001B[0mset_ylabel\u001B[0m\u001B[1;33m(\u001B[0m\u001B[0margname\u001B[0m\u001B[1;33m(\u001B[0m\u001B[1;34m'y'\u001B[0m\u001B[1;33m)\u001B[0m\u001B[1;33m,\u001B[0m \u001B[0mcolor\u001B[0m\u001B[1;33m=\u001B[0m\u001B[0mcolor\u001B[0m\u001B[1;33m)\u001B[0m\u001B[1;33m\u001B[0m\u001B[1;33m\u001B[0m\u001B[0m\n\u001B[0;32m     27\u001B[0m         \u001B[0max\u001B[0m\u001B[1;33m.\u001B[0m\u001B[0mplot\u001B[0m\u001B[1;33m(\u001B[0m\u001B[0mx\u001B[0m\u001B[1;33m,\u001B[0m \u001B[0my\u001B[0m\u001B[1;33m,\u001B[0m \u001B[0mcolor\u001B[0m\u001B[1;33m=\u001B[0m\u001B[0mcolor\u001B[0m\u001B[1;33m,\u001B[0m \u001B[0mlabel\u001B[0m\u001B[1;33m=\u001B[0m\u001B[0margname\u001B[0m\u001B[1;33m(\u001B[0m\u001B[1;34m'y'\u001B[0m\u001B[1;33m)\u001B[0m\u001B[1;33m)\u001B[0m\u001B[1;33m\u001B[0m\u001B[1;33m\u001B[0m\u001B[0m\n",
      "\u001B[1;31mNameError\u001B[0m: name 'argname' is not defined"
     ]
    },
    {
     "data": {
      "image/png": "[encoded data removed]",
      "text/plain": [
       "<Figure size 576x396 with 1 Axes>"
      ]
     },
     "metadata": {},
     "output_type": "display_data"
    }
   ],
   "source": [
    "import random\n",
    "def elbow_method(matrix, lower, upper, seed=None, knee=True):\n",
    "\n",
    "    distortions = []\n",
    "    silhouettes = []\n",
    "    \n",
    "    # Set Seed\n",
    "    if not seed:\n",
    "        seed = random.randrange(10000000)\n",
    "    print (f'Seed: {seed}')\n",
    "    K = range(lower,upper)\n",
    "\n",
    "    for k in K:\n",
    "        model = KMeans(k, random_state=seed)\n",
    "        labels = model.fit_predict(matrix)\n",
    "        silhouette_avg = silhouette_score(matrix, labels)\n",
    "        silhouettes.append(silhouette_avg)\n",
    "        distortions.append(model.inertia_)\n",
    "\n",
    "    def bestk_plot(axis, x, y, color, draw_knee=True, curve=None, direction=None, twinx=None):\n",
    "        if twinx:\n",
    "            ax = axis.twinx()\n",
    "        else:\n",
    "            ax = axis\n",
    "            ax.set_xlabel(argname('x'))\n",
    "        ax.set_ylabel(argname('y'), color=color)\n",
    "        ax.plot(x, y, color=color, label=argname('y'))\n",
    "        ax.set_yticks(np.linspace(axis.get_ybound()[0], axis.get_ybound()[1],5))\n",
    "        ax.tick_params(axis='y', labelcolor=color)\n",
    "        if draw_knee:\n",
    "            # https://kneed.readthedocs.io/en/stable/parameters.html\n",
    "            kneedle = KneeLocator(\n",
    "                x = x,\n",
    "                y = y,\n",
    "                curve = curve, \n",
    "                direction = direction, \n",
    "                online = True, \n",
    "                interp_method = \"interp1d\", #Valid arguments are “interp1d” and “polynomial”.\n",
    "                polynomial_degree = 7 #Default\n",
    "            ) \n",
    "            print (kneedle.knee)\n",
    "            ax.axvline(kneedle.knee, color=color, linestyle=\"--\", label=f'k={kneedle.knee}')\n",
    "            \n",
    "        return ax\n",
    "        \n",
    "    fig, ax1 = plt.subplots()\n",
    "    \n",
    "    ax1 = bestk_plot(ax1, K, distortions, 'tab:red', draw_knee=True, curve='convex', direction='decreasing')\n",
    "    #ax2 = bestk_plot(ax1, K, silhouettes, 'tab:blue', True,'concave', 'increasing', twinx=True)\n",
    "    ax3 = ax1.twinx()\n",
    "    text(0.5, 0.5, 'matplotlib', horizontalalignment='center', verticalalignment='center', transform=ax3.transAxes)\n",
    "    fig.tight_layout()\n",
    "    \n",
    "    #text(0.5, 1, f'Seed: {seed}', horizontalalignment='left', verticalalignment='bottom', transform=fig.transFigure)\n",
    "    \n",
    "     \t\n",
    "    plt.legend(loc=\"center left\")\n",
    "\n",
    "    return plt.show()\n",
    "\n",
    "elbow_method(TFIDF_matrix, 2, 7)"
   ]
  },
  {
   "cell_type": "code",
   "execution_count": null,
   "id": "63c94a5d-b04b-4613-89fa-9cbb8dd566e8",
   "metadata": {
    "tags": []
   },
   "outputs": [],
   "source": [
    "    fig, ax1 = plt.subplots()\n",
    "    # Plot Distortions\n",
    "    color = 'tab:red'\n",
    "    ax1.set_xlabel('k (s)')\n",
    "    ax1.set_ylabel('Distortion', color=color)\n",
    "    ax1.plot(K, distortions, color=color)\n",
    "    ax1.set_yticks(np.linspace(ax1.get_ybound()[0], ax1.get_ybound()[1], 5))\n",
    "    ax1.tick_params(axis='y', labelcolor=color)\n",
    "    if knee:\n",
    "        distortion_knee = KneeLocator(K, distortions, S=1.0, curve=\"convex\", direction=\"decreasing\")\n",
    "        ax1.axvline(distortion_knee.knee, color=color, linestyle=\"--\", label=f'k={distortion_knee.knee}')\n",
    "    \n",
    "\n",
    "    # Plot Silhouettes\n",
    "    ax2 = ax1.twinx()  # instantiate a second axes that shares the same x-axis\n",
    "    color = 'tab:blue'\n",
    "    ax2.set_ylabel('Silhouettes', color=color)  # we already handled the x-label with ax1\n",
    "    ax2.plot(K, silhouettes, color=color)\n",
    "    ax2.set_yticks(np.linspace(ax2.get_ybound()[0], ax2.get_ybound()[1], 5))\n",
    "    ax2.tick_params(axis='y', labelcolor=color)\n",
    "    if knee:\n",
    "        silhouette_knee = KneeLocator(K, silhouettes, S=1.0, curve=\"concave\", direction=\"increasing\")\n",
    "        ax2.axvline(silhouette_knee.knee, color=color, linestyle=\"--\", label=f'k={silhouette_knee.knee}')"
   ]
  },
  {
   "cell_type": "code",
   "execution_count": null,
   "id": "1fd6cda2-4ed8-4beb-aa66-7b0dcebf65a1",
   "metadata": {
    "tags": []
   },
   "outputs": [],
   "source": [
    "    #plt.figure(figsize=(16,8))\n",
    "    #plt.plot(K, distortions, 'xb-')\n",
    "    #plt.plot(K, silhouettes, 'xr-')\n",
    "    #plt.xlabel('k')\n",
    "    #plt.ylabel('Distortion')\n",
    "    #plt.title('The Elbow Method with optimal k')\n",
    "\n",
    "    fig, ax1 = plt.subplots()\n",
    "\n",
    "    # Plot Distortions\n",
    "    color = 'tab:red'\n",
    "    ax1.set_xlabel('k (s)')\n",
    "    ax1.set_ylabel('Distortion', color=color)\n",
    "    ax1.plot(k, distortions, color=color)\n",
    "    ax1.tick_params(axis='y', labelcolor=color)\n",
    "\n",
    "    # Plot Silhouettes\n",
    "    ax2 = ax1.twinx()  # instantiate a second axes that shares the same x-axis\n",
    "    color = 'tab:blue'\n",
    "    ax2.set_ylabel('Silhouettes', color=color)  # we already handled the x-label with ax1\n",
    "    ax2.plot(k, silhouettes, color=color)\n",
    "    ax2.tick_params(axis='y', labelcolor=color)\n",
    "\n",
    "    fig.tight_layout()  # otherwise the right y-label is slightly clipped\n",
    "\n",
    "    return plt.show()"
   ]
  },
  {
   "cell_type": "code",
   "execution_count": 87,
   "id": "af347125-bfce-48f1-9556-7c227a123efe",
   "metadata": {
    "tags": []
   },
   "outputs": [],
   "source": [
    "def elbow_method(matrix, lower, upper, seed=None):\n",
    "    # Plot the distortions for each potential value of k\n",
    "    distortions = []\n",
    "    silhouettes = []\n",
    "    \n",
    "    K = range(lower,upper)\n",
    "\n",
    "    for k in K:\n",
    "        model = KMeans(k, random_state=seed)\n",
    "        labels = model.fit(matrix)\n",
    "        silhouette_avg = silhouette_score(matrix, labels)\n",
    "        silhouettes.append(silhouette_avg)\n",
    "        distortions.append(model.inertia_)\n",
    "    \n",
    "    plt.figure(figsize=(16,8))\n",
    "    plt.plot(K, distortions, 'xb-')\n",
    "    plt.plot(K, silhouettes, 'xr-')\n",
    "    plt.xlabel('k')\n",
    "    plt.ylabel('Distortion')\n",
    "    plt.title('The Elbow Method with optimal k')\n",
    "    \n",
    "    return plt.show()\n",
    "\n",
    "\n",
    "    for k in K:\n",
    "        # Create a subplot with 1 row and 2 columns\n",
    "        fig, (ax1, ax2) = plt.subplots(1, 2)\n",
    "        fig.set_size_inches(18, 7)\n",
    "\n",
    "        # The 1st subplot is the silhouette plot\n",
    "        # The silhouette coefficient can range from -1, 1 but in this example all\n",
    "        # lie within [-0.1, 1]\n",
    "        ax1.set_xlim([-0.1, 1])\n",
    "        # The (n_clusters+1)*10 is for inserting blank space between silhouette\n",
    "        # plots of individual clusters, to demarcate them clearly.\n",
    "        ax1.set_ylim([0, len(X) + (n_clusters + 1) * 10])\n",
    "\n",
    "        # Initialize the clusterer with n_clusters value and a random generator\n",
    "        # seed of 10 for reproducibility.\n",
    "\n",
    "\n",
    "\n",
    "    # Compute the silhouette scores for each sample\n",
    "    sample_silhouette_values = silhouette_samples(X, cluster_labels)\n",
    "\n",
    "    y_lower = 10\n",
    "    for i in range(n_clusters):\n",
    "        # Aggregate the silhouette scores for samples belonging to\n",
    "        # cluster i, and sort them\n",
    "        ith_cluster_silhouette_values = sample_silhouette_values[cluster_labels == i]\n",
    "\n",
    "        ith_cluster_silhouette_values.sort()\n",
    "\n",
    "        size_cluster_i = ith_cluster_silhouette_values.shape[0]\n",
    "        y_upper = y_lower + size_cluster_i\n",
    "\n",
    "        color = cm.nipy_spectral(float(i) / n_clusters)\n",
    "        ax1.fill_betweenx(\n",
    "            np.arange(y_lower, y_upper),\n",
    "            0,\n",
    "            ith_cluster_silhouette_values,\n",
    "            facecolor=color,\n",
    "            edgecolor=color,\n",
    "            alpha=0.7,\n",
    "        )\n",
    "\n",
    "        # Label the silhouette plots with their cluster numbers at the middle\n",
    "        ax1.text(-0.05, y_lower + 0.5 * size_cluster_i, str(i))\n",
    "\n",
    "        # Compute the new y_lower for next plot\n",
    "        y_lower = y_upper + 10  # 10 for the 0 samples\n",
    "\n",
    "    ax1.set_title(\"The silhouette plot for the various clusters.\")\n",
    "    ax1.set_xlabel(\"The silhouette coefficient values\")\n",
    "    ax1.set_ylabel(\"Cluster label\")\n",
    "\n",
    "    # The vertical line for average silhouette score of all the values\n",
    "    ax1.axvline(x=silhouette_avg, color=\"red\", linestyle=\"--\")\n",
    "\n",
    "    ax1.set_yticks([])  # Clear the yaxis labels / ticks\n",
    "    ax1.set_xticks([-0.1, 0, 0.2, 0.4, 0.6, 0.8, 1])\n",
    "\n",
    "    # 2nd Plot showing the actual clusters formed\n",
    "    colors = cm.nipy_spectral(cluster_labels.astype(float) / n_clusters)\n",
    "    ax2.scatter(\n",
    "        X[:, 0], X[:, 1], marker=\".\", s=30, lw=0, alpha=0.7, c=colors, edgecolor=\"k\"\n",
    "    )\n",
    "\n",
    "    # Labeling the clusters\n",
    "    centers = clusterer.cluster_centers_\n",
    "    # Draw white circles at cluster centers\n",
    "    ax2.scatter(\n",
    "        centers[:, 0],\n",
    "        centers[:, 1],\n",
    "        marker=\"o\",\n",
    "        c=\"white\",\n",
    "        alpha=1,\n",
    "        s=200,\n",
    "        edgecolor=\"k\",\n",
    "    )\n",
    "\n",
    "    for i, c in enumerate(centers):\n",
    "        ax2.scatter(c[0], c[1], marker=\"$%d$\" % i, alpha=1, s=50, edgecolor=\"k\")\n",
    "\n",
    "    ax2.set_title(\"The visualization of the clustered data.\")\n",
    "    ax2.set_xlabel(\"Feature space for the 1st feature\")\n",
    "    ax2.set_ylabel(\"Feature space for the 2nd feature\")\n",
    "\n",
    "    plt.suptitle(\n",
    "        \"Silhouette analysis for KMeans clustering on sample data with n_clusters = %d\"\n",
    "        % n_clusters,\n",
    "        fontsize=14,\n",
    "        fontweight=\"bold\",\n",
    "    )\n",
    "\n",
    "plt.show()"
   ]
  },
  {
   "cell_type": "code",
   "execution_count": 82,
   "id": "3d6a7ea1-ffaf-4244-9fc2-aaabe38d0bd9",
   "metadata": {
    "collapsed": true,
    "jupyter": {
     "outputs_hidden": true
    },
    "tags": []
   },
   "outputs": [
    {
     "ename": "ValueError",
     "evalue": "y should be a 1d array, got an array of shape () instead.",
     "output_type": "error",
     "traceback": [
      "\u001B[1;31m---------------------------------------------------------------------------\u001B[0m",
      "\u001B[1;31mValueError\u001B[0m                                Traceback (most recent call last)",
      "\u001B[1;32m~\\AppData\\Local\\Temp\\ipykernel_7524\\215841366.py\u001B[0m in \u001B[0;36m<module>\u001B[1;34m\u001B[0m\n\u001B[1;32m----> 1\u001B[1;33m \u001B[0melbow_method\u001B[0m\u001B[1;33m(\u001B[0m\u001B[0mTFIDF_matrix\u001B[0m\u001B[1;33m,\u001B[0m\u001B[1;36m2\u001B[0m\u001B[1;33m,\u001B[0m\u001B[1;36m5\u001B[0m\u001B[1;33m)\u001B[0m\u001B[1;33m\u001B[0m\u001B[1;33m\u001B[0m\u001B[0m\n\u001B[0m",
      "\u001B[1;32m~\\AppData\\Local\\Temp\\ipykernel_7524\\1317614767.py\u001B[0m in \u001B[0;36melbow_method\u001B[1;34m(matrix, lower, upper, seed)\u001B[0m\n\u001B[0;32m      9\u001B[0m         \u001B[0mmodel\u001B[0m \u001B[1;33m=\u001B[0m \u001B[0mKMeans\u001B[0m\u001B[1;33m(\u001B[0m\u001B[0mk\u001B[0m\u001B[1;33m,\u001B[0m \u001B[0mrandom_state\u001B[0m\u001B[1;33m=\u001B[0m\u001B[0mseed\u001B[0m\u001B[1;33m)\u001B[0m\u001B[1;33m\u001B[0m\u001B[1;33m\u001B[0m\u001B[0m\n\u001B[0;32m     10\u001B[0m         \u001B[0mlabels\u001B[0m \u001B[1;33m=\u001B[0m \u001B[0mmodel\u001B[0m\u001B[1;33m.\u001B[0m\u001B[0mfit\u001B[0m\u001B[1;33m(\u001B[0m\u001B[0mmatrix\u001B[0m\u001B[1;33m)\u001B[0m\u001B[1;33m\u001B[0m\u001B[1;33m\u001B[0m\u001B[0m\n\u001B[1;32m---> 11\u001B[1;33m         \u001B[0msilhouette_avg\u001B[0m \u001B[1;33m=\u001B[0m \u001B[0msilhouette_score\u001B[0m\u001B[1;33m(\u001B[0m\u001B[0mmatrix\u001B[0m\u001B[1;33m,\u001B[0m \u001B[0mlabels\u001B[0m\u001B[1;33m)\u001B[0m\u001B[1;33m\u001B[0m\u001B[1;33m\u001B[0m\u001B[0m\n\u001B[0m\u001B[0;32m     12\u001B[0m         \u001B[0msilhouettes\u001B[0m\u001B[1;33m.\u001B[0m\u001B[0mappend\u001B[0m\u001B[1;33m(\u001B[0m\u001B[0msilhouette_avg\u001B[0m\u001B[1;33m)\u001B[0m\u001B[1;33m\u001B[0m\u001B[1;33m\u001B[0m\u001B[0m\n\u001B[0;32m     13\u001B[0m         \u001B[0mdistortions\u001B[0m\u001B[1;33m.\u001B[0m\u001B[0mappend\u001B[0m\u001B[1;33m(\u001B[0m\u001B[0mmodel\u001B[0m\u001B[1;33m.\u001B[0m\u001B[0minertia_\u001B[0m\u001B[1;33m)\u001B[0m\u001B[1;33m\u001B[0m\u001B[1;33m\u001B[0m\u001B[0m\n",
      "\u001B[1;32m~\\anaconda3\\envs\\NLP\\lib\\site-packages\\sklearn\\metrics\\cluster\\_unsupervised.py\u001B[0m in \u001B[0;36msilhouette_score\u001B[1;34m(X, labels, metric, sample_size, random_state, **kwds)\u001B[0m\n\u001B[0;32m    115\u001B[0m         \u001B[1;32melse\u001B[0m\u001B[1;33m:\u001B[0m\u001B[1;33m\u001B[0m\u001B[1;33m\u001B[0m\u001B[0m\n\u001B[0;32m    116\u001B[0m             \u001B[0mX\u001B[0m\u001B[1;33m,\u001B[0m \u001B[0mlabels\u001B[0m \u001B[1;33m=\u001B[0m \u001B[0mX\u001B[0m\u001B[1;33m[\u001B[0m\u001B[0mindices\u001B[0m\u001B[1;33m]\u001B[0m\u001B[1;33m,\u001B[0m \u001B[0mlabels\u001B[0m\u001B[1;33m[\u001B[0m\u001B[0mindices\u001B[0m\u001B[1;33m]\u001B[0m\u001B[1;33m\u001B[0m\u001B[1;33m\u001B[0m\u001B[0m\n\u001B[1;32m--> 117\u001B[1;33m     \u001B[1;32mreturn\u001B[0m \u001B[0mnp\u001B[0m\u001B[1;33m.\u001B[0m\u001B[0mmean\u001B[0m\u001B[1;33m(\u001B[0m\u001B[0msilhouette_samples\u001B[0m\u001B[1;33m(\u001B[0m\u001B[0mX\u001B[0m\u001B[1;33m,\u001B[0m \u001B[0mlabels\u001B[0m\u001B[1;33m,\u001B[0m \u001B[0mmetric\u001B[0m\u001B[1;33m=\u001B[0m\u001B[0mmetric\u001B[0m\u001B[1;33m,\u001B[0m \u001B[1;33m**\u001B[0m\u001B[0mkwds\u001B[0m\u001B[1;33m)\u001B[0m\u001B[1;33m)\u001B[0m\u001B[1;33m\u001B[0m\u001B[1;33m\u001B[0m\u001B[0m\n\u001B[0m\u001B[0;32m    118\u001B[0m \u001B[1;33m\u001B[0m\u001B[0m\n\u001B[0;32m    119\u001B[0m \u001B[1;33m\u001B[0m\u001B[0m\n",
      "\u001B[1;32m~\\anaconda3\\envs\\NLP\\lib\\site-packages\\sklearn\\metrics\\cluster\\_unsupervised.py\u001B[0m in \u001B[0;36msilhouette_samples\u001B[1;34m(X, labels, metric, **kwds)\u001B[0m\n\u001B[0;32m    210\u001B[0m        \u001B[1;33m<\u001B[0m\u001B[0mhttps\u001B[0m\u001B[1;33m:\u001B[0m\u001B[1;33m//\u001B[0m\u001B[0men\u001B[0m\u001B[1;33m.\u001B[0m\u001B[0mwikipedia\u001B[0m\u001B[1;33m.\u001B[0m\u001B[0morg\u001B[0m\u001B[1;33m/\u001B[0m\u001B[0mwiki\u001B[0m\u001B[1;33m/\u001B[0m\u001B[0mSilhouette_\u001B[0m\u001B[1;33m(\u001B[0m\u001B[0mclustering\u001B[0m\u001B[1;33m)\u001B[0m\u001B[1;33m>\u001B[0m\u001B[0;31m`\u001B[0m\u001B[0m_\u001B[0m\u001B[1;33m\u001B[0m\u001B[1;33m\u001B[0m\u001B[0m\n\u001B[0;32m    211\u001B[0m     \"\"\"\n\u001B[1;32m--> 212\u001B[1;33m     \u001B[0mX\u001B[0m\u001B[1;33m,\u001B[0m \u001B[0mlabels\u001B[0m \u001B[1;33m=\u001B[0m \u001B[0mcheck_X_y\u001B[0m\u001B[1;33m(\u001B[0m\u001B[0mX\u001B[0m\u001B[1;33m,\u001B[0m \u001B[0mlabels\u001B[0m\u001B[1;33m,\u001B[0m \u001B[0maccept_sparse\u001B[0m\u001B[1;33m=\u001B[0m\u001B[1;33m[\u001B[0m\u001B[1;34m\"csc\"\u001B[0m\u001B[1;33m,\u001B[0m \u001B[1;34m\"csr\"\u001B[0m\u001B[1;33m]\u001B[0m\u001B[1;33m)\u001B[0m\u001B[1;33m\u001B[0m\u001B[1;33m\u001B[0m\u001B[0m\n\u001B[0m\u001B[0;32m    213\u001B[0m \u001B[1;33m\u001B[0m\u001B[0m\n\u001B[0;32m    214\u001B[0m     \u001B[1;31m# Check for non-zero diagonal entries in precomputed distance matrix\u001B[0m\u001B[1;33m\u001B[0m\u001B[1;33m\u001B[0m\u001B[1;33m\u001B[0m\u001B[0m\n",
      "\u001B[1;32m~\\anaconda3\\envs\\NLP\\lib\\site-packages\\sklearn\\utils\\validation.py\u001B[0m in \u001B[0;36mcheck_X_y\u001B[1;34m(X, y, accept_sparse, accept_large_sparse, dtype, order, copy, force_all_finite, ensure_2d, allow_nd, multi_output, ensure_min_samples, ensure_min_features, y_numeric, estimator)\u001B[0m\n\u001B[0;32m    977\u001B[0m     )\n\u001B[0;32m    978\u001B[0m \u001B[1;33m\u001B[0m\u001B[0m\n\u001B[1;32m--> 979\u001B[1;33m     \u001B[0my\u001B[0m \u001B[1;33m=\u001B[0m \u001B[0m_check_y\u001B[0m\u001B[1;33m(\u001B[0m\u001B[0my\u001B[0m\u001B[1;33m,\u001B[0m \u001B[0mmulti_output\u001B[0m\u001B[1;33m=\u001B[0m\u001B[0mmulti_output\u001B[0m\u001B[1;33m,\u001B[0m \u001B[0my_numeric\u001B[0m\u001B[1;33m=\u001B[0m\u001B[0my_numeric\u001B[0m\u001B[1;33m)\u001B[0m\u001B[1;33m\u001B[0m\u001B[1;33m\u001B[0m\u001B[0m\n\u001B[0m\u001B[0;32m    980\u001B[0m \u001B[1;33m\u001B[0m\u001B[0m\n\u001B[0;32m    981\u001B[0m     \u001B[0mcheck_consistent_length\u001B[0m\u001B[1;33m(\u001B[0m\u001B[0mX\u001B[0m\u001B[1;33m,\u001B[0m \u001B[0my\u001B[0m\u001B[1;33m)\u001B[0m\u001B[1;33m\u001B[0m\u001B[1;33m\u001B[0m\u001B[0m\n",
      "\u001B[1;32m~\\anaconda3\\envs\\NLP\\lib\\site-packages\\sklearn\\utils\\validation.py\u001B[0m in \u001B[0;36m_check_y\u001B[1;34m(y, multi_output, y_numeric)\u001B[0m\n\u001B[0;32m    991\u001B[0m         )\n\u001B[0;32m    992\u001B[0m     \u001B[1;32melse\u001B[0m\u001B[1;33m:\u001B[0m\u001B[1;33m\u001B[0m\u001B[1;33m\u001B[0m\u001B[0m\n\u001B[1;32m--> 993\u001B[1;33m         \u001B[0my\u001B[0m \u001B[1;33m=\u001B[0m \u001B[0mcolumn_or_1d\u001B[0m\u001B[1;33m(\u001B[0m\u001B[0my\u001B[0m\u001B[1;33m,\u001B[0m \u001B[0mwarn\u001B[0m\u001B[1;33m=\u001B[0m\u001B[1;32mTrue\u001B[0m\u001B[1;33m)\u001B[0m\u001B[1;33m\u001B[0m\u001B[1;33m\u001B[0m\u001B[0m\n\u001B[0m\u001B[0;32m    994\u001B[0m         \u001B[0m_assert_all_finite\u001B[0m\u001B[1;33m(\u001B[0m\u001B[0my\u001B[0m\u001B[1;33m)\u001B[0m\u001B[1;33m\u001B[0m\u001B[1;33m\u001B[0m\u001B[0m\n\u001B[0;32m    995\u001B[0m         \u001B[0m_ensure_no_complex_data\u001B[0m\u001B[1;33m(\u001B[0m\u001B[0my\u001B[0m\u001B[1;33m)\u001B[0m\u001B[1;33m\u001B[0m\u001B[1;33m\u001B[0m\u001B[0m\n",
      "\u001B[1;32m~\\anaconda3\\envs\\NLP\\lib\\site-packages\\sklearn\\utils\\validation.py\u001B[0m in \u001B[0;36mcolumn_or_1d\u001B[1;34m(y, warn)\u001B[0m\n\u001B[0;32m   1037\u001B[0m \u001B[1;33m\u001B[0m\u001B[0m\n\u001B[0;32m   1038\u001B[0m     raise ValueError(\n\u001B[1;32m-> 1039\u001B[1;33m         \u001B[1;34m\"y should be a 1d array, got an array of shape {} instead.\"\u001B[0m\u001B[1;33m.\u001B[0m\u001B[0mformat\u001B[0m\u001B[1;33m(\u001B[0m\u001B[0mshape\u001B[0m\u001B[1;33m)\u001B[0m\u001B[1;33m\u001B[0m\u001B[1;33m\u001B[0m\u001B[0m\n\u001B[0m\u001B[0;32m   1040\u001B[0m     )\n\u001B[0;32m   1041\u001B[0m \u001B[1;33m\u001B[0m\u001B[0m\n",
      "\u001B[1;31mValueError\u001B[0m: y should be a 1d array, got an array of shape () instead."
     ]
    }
   ],
   "source": [
    "elbow_method(TFIDF_matrix,2,3)"
   ]
  },
  {
   "cell_type": "markdown",
   "id": "bc75bc70-6687-4977-8c95-aff055b5bdd8",
   "metadata": {},
   "source": [
    "## Kmeans"
   ]
  },
  {
   "cell_type": "code",
   "execution_count": 75,
   "id": "c4ace110-e214-457c-ac9a-8ca45f382ff2",
   "metadata": {},
   "outputs": [],
   "source": [
    "k = 4\n",
    "km = KMeans(n_clusters=k, random_state =89)\n",
    "km.fit(TFIDF_matrix)\n",
    "clusters = km.labels_.tolist()\n",
    "\n",
    "\n",
    "terms = Tfidf.get_feature_names_out()\n",
    "Dictionary = {'Doc Name':titles, 'Cluster':clusters,  'Text': final_processed_text}\n",
    "frame = pd.DataFrame(Dictionary, columns=['Cluster', 'Doc Name','Text'])\n",
    "\n"
   ]
  },
  {
   "cell_type": "code",
   "execution_count": 76,
   "id": "6347652e-7865-49cb-9428-155a9b661b0a",
   "metadata": {},
   "outputs": [
    {
     "name": "stdout",
     "output_type": "stream",
     "text": [
      "Top terms per cluster:\n",
      "Cluster 0:\n",
      " coronavirus\n",
      " pandemic\n",
      " internalessential\n",
      " people\n",
      " government\n",
      " quarantine\n",
      " media\n",
      " culture\n",
      " travel\n",
      " content\n",
      "Cluster 1:\n",
      " estate\n",
      " housing\n",
      " residential\n",
      " housing residential\n",
      " estate housing\n",
      " homes\n",
      " recent\n",
      " house\n",
      " commercial\n",
      " properties\n",
      "Cluster 2:\n",
      " united states\n",
      " united\n",
      " states\n",
      " government\n",
      " politics\n",
      " states politics\n",
      " politics government\n",
      " military\n",
      " international\n",
      " defense\n",
      "Cluster 3:\n",
      " election\n",
      " presidential\n",
      " presidential election\n",
      " trump\n",
      " politics\n",
      " states\n",
      " states politics\n",
      " united states\n",
      " united\n",
      " politics government\n",
      "Cluster 4:\n",
      " vaccination\n",
      " immunization\n",
      " vaccination immunization\n",
      " coronavirus\n",
      " vaccine\n",
      " coronavirus vaccination\n",
      " immunization coronavirus\n",
      " vaccines\n",
      " coronavirus briefing\n",
      " rates\n",
      "Cluster 5:\n",
      " murders\n",
      " police\n",
      " homicides\n",
      " attempted murders\n",
      " murders homicides\n",
      " murders attempted\n",
      " protests\n",
      " shootings\n",
      " attempted\n",
      " police brutality\n",
      "Cluster 6:\n",
      " warming\n",
      " global warming\n",
      " global\n",
      " climate\n",
      " emissions\n",
      " greenhouse\n",
      " greenhouse emissions\n",
      " climate change\n",
      " change\n",
      " warming greenhouse\n"
     ]
    }
   ],
   "source": [
    "print(\"Top terms per cluster:\")\n",
    "#sort cluster centers by proximity to centroid\n",
    "order_centroids = km.cluster_centers_.argsort()[:, ::-1] \n",
    "terms_dict=[]\n",
    "\n",
    "#save the terms for each cluster and document to dictionaries.  To be used later\n",
    "#for plotting output.\n",
    "\n",
    "#dictionary to store terms and titles\n",
    "cluster_terms={}\n",
    "cluster_title={}\n",
    "\n",
    "print_titles = False\n",
    "for i in range(k):\n",
    "    print(\"Cluster %d:\" % i),\n",
    "    temp_terms=[]\n",
    "    temp_titles=[]\n",
    "    for ind in order_centroids[i, :10]:\n",
    "        print(' %s' % terms[ind])\n",
    "        terms_dict.append(terms[ind])\n",
    "        temp_terms.append(terms[ind])\n",
    "    cluster_terms[i]=temp_terms\n",
    "    temp=frame[frame['Cluster']==i]\n",
    "    if print_titles:\n",
    "        print(\"Cluster %d titles:\" % i, end='')\n",
    "        \n",
    "    for title in temp['Doc Name']:\n",
    "        if print_titles:\n",
    "            print(' %s,' % title, end='')\n",
    "        temp_titles.append(title)\n",
    "        cluster_title[i]=temp_titles"
   ]
  },
  {
   "cell_type": "code",
   "execution_count": null,
   "id": "5e770053-f97c-496c-96ea-bfb54ae33644",
   "metadata": {},
   "outputs": [],
   "source": [
    "cluster_terms"
   ]
  },
  {
   "cell_type": "code",
   "execution_count": null,
   "id": "906ab205-abbc-4227-b800-65b30fa99840",
   "metadata": {},
   "outputs": [],
   "source": [
    "pd.DataFrame(cluster_title[7]).to_csv(\"cluster7.csv\")"
   ]
  },
  {
   "cell_type": "code",
   "execution_count": null,
   "id": "222ed69a-eb75-4118-8a47-9854a02aee8b",
   "metadata": {},
   "outputs": [],
   "source": []
  }
 ],
 "metadata": {
  "kernelspec": {
   "display_name": "Python 3 (ipykernel)",
   "language": "python",
   "name": "python3"
  },
  "language_info": {
   "codemirror_mode": {
    "name": "ipython",
    "version": 3
   },
   "file_extension": ".py",
   "mimetype": "text/x-python",
   "name": "python",
   "nbconvert_exporter": "python",
   "pygments_lexer": "ipython3",
   "version": "3.7.12"
  }
 },
 "nbformat": 4,
 "nbformat_minor": 5
}