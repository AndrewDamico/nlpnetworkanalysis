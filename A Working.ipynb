{
 "cells": [
  {
   "cell_type": "code",
   "execution_count": 6,
   "id": "166eeaff-01cb-4554-b8df-dddf5b3c8a24",
   "metadata": {
    "tags": []
   },
   "outputs": [],
   "source": [
    "#import re, string\n",
    "\n",
    "#from nltk.corpus import stopwords\n",
    "#from nltk.stem import PorterStemmer\n",
    "\n",
    "\n",
    "# SKLean\n",
    "from sklearn.feature_extraction.text import TfidfVectorizer\n",
    "from sklearn.cluster import KMeans\n",
    "from sklearn.decomposition import PCA\n",
    "from sklearn.manifold import TSNE\n",
    "#from sklearn.metrics.pairwise import cosine_similarity\n",
    "#from sklearn.manifold import MDS\n",
    "#from sklearn.preprocessing import LabelEncoder, OneHotEncoder\n",
    "#from sklearn.ensemble import RandomForestClassifier\n",
    "#from sklearn.metrics import roc_auc_score, accuracy_score, confusion_matrix\n",
    "#from sklearn.model_selection import cross_val_score, StratifiedKFold\n",
    "#from sklearn.tree import DecisionTreeClassifier\n",
    "#import matplotlib.pyplot as plt\n",
    "#from sklearn.model_selection import train_test_split, KFold\n",
    "\n",
    "\n",
    "\n",
    "#LdaMulticore, TfidfModel\n",
    "#from gensim import corpora\n",
    "import gensim\n",
    "from gensim.models import Word2Vec,LdaMulticore, TfidfModel\n",
    "\n",
    "\n",
    "\n",
    "from gensim.models.doc2vec import Doc2Vec, TaggedDocument\n",
    "from gensim.models import Word2Vec\n",
    "\n",
    "import numpy as np\n",
    "import pandas as pd\n",
    "import matplotlib.pylab as plt\n",
    "import matplotlib.tri as tri\n",
    "%matplotlib inline\n",
    "from mpl_toolkits.mplot3d import Axes3D\n",
    "import seaborn as sns\n",
    "\n",
    "import multiprocessing\n",
    "\n",
    "import importlib\n",
    "import NLPPrep\n",
    "from NLPPrep import tokenization, One_Hot, newsloader\n",
    "import tensorflow as tf"
   ]
  },
  {
   "cell_type": "code",
   "execution_count": 7,
   "id": "aec63446-f1d0-44c5-9e4d-5643015f2e1b",
   "metadata": {},
   "outputs": [
    {
     "data": {
      "text/plain": [
       "[PhysicalDevice(name='/physical_device:GPU:0', device_type='GPU')]"
      ]
     },
     "execution_count": 7,
     "metadata": {},
     "output_type": "execute_result"
    }
   ],
   "source": [
    "tf.config.list_physical_devices('GPU')"
   ]
  },
  {
   "cell_type": "code",
   "execution_count": null,
   "id": "b8e9e947-dab4-4d30-8c88-d7e2c4650dca",
   "metadata": {},
   "outputs": [],
   "source": []
  },
  {
   "cell_type": "markdown",
   "id": "fb197a4c-1287-4acb-829c-e6b4358dc7c9",
   "metadata": {},
   "source": [
    "# Get Data"
   ]
  },
  {
   "cell_type": "code",
   "execution_count": 8,
   "id": "dfcedeed-ab75-4676-9876-3caa6c952c28",
   "metadata": {
    "tags": []
   },
   "outputs": [
    {
     "name": "stdout",
     "output_type": "stream",
     "text": [
      "Total files: 1\n",
      "Total records: 47078\n"
     ]
    }
   ],
   "source": [
    "news = newsloader(directory='headlines')"
   ]
  },
  {
   "cell_type": "markdown",
   "id": "06ca5c2a-bea1-4130-9bc1-64b20ad8e082",
   "metadata": {},
   "source": [
    "Combine the headline, keywords, and snippet into a single cell"
   ]
  },
  {
   "cell_type": "code",
   "execution_count": 9,
   "id": "210502a0-66f4-46ed-86d4-d88f581a4a75",
   "metadata": {},
   "outputs": [
    {
     "data": {
      "text/html": [
       "<div>\n",
       "<style scoped>\n",
       "    .dataframe tbody tr th:only-of-type {\n",
       "        vertical-align: middle;\n",
       "    }\n",
       "\n",
       "    .dataframe tbody tr th {\n",
       "        vertical-align: top;\n",
       "    }\n",
       "\n",
       "    .dataframe thead th {\n",
       "        text-align: right;\n",
       "    }\n",
       "</style>\n",
       "<table border=\"1\" class=\"dataframe\">\n",
       "  <thead>\n",
       "    <tr style=\"text-align: right;\">\n",
       "      <th></th>\n",
       "      <th>date</th>\n",
       "      <th>headline</th>\n",
       "      <th>snippet</th>\n",
       "      <th>keywords</th>\n",
       "    </tr>\n",
       "  </thead>\n",
       "  <tbody>\n",
       "    <tr>\n",
       "      <th>0</th>\n",
       "      <td>2020-01-01</td>\n",
       "      <td>‘Battling a Demon’: Drifter Sought Help Before...</td>\n",
       "      <td>The gunman who shot two parishioners at the We...</td>\n",
       "      <td>['Churches (Buildings)', 'Murders, Attempted M...</td>\n",
       "    </tr>\n",
       "    <tr>\n",
       "      <th>1</th>\n",
       "      <td>2020-01-01</td>\n",
       "      <td>F.D.A. Plans to Ban Most E-Cigarette Flavors b...</td>\n",
       "      <td>The tobacco and vaping industries and conserva...</td>\n",
       "      <td>['E-Cigarettes', 'Recalls and Bans of Products...</td>\n",
       "    </tr>\n",
       "    <tr>\n",
       "      <th>2</th>\n",
       "      <td>2020-01-01</td>\n",
       "      <td>Hong Kong Protesters Return to Streets as New ...</td>\n",
       "      <td>Weeks of relative calm ended on Wednesday, as ...</td>\n",
       "      <td>['Demonstrations, Protests and Riots', 'Hong K...</td>\n",
       "    </tr>\n",
       "    <tr>\n",
       "      <th>3</th>\n",
       "      <td>2020-01-01</td>\n",
       "      <td>Kevin Spacey Accuser’s Estate Drops Sexual Ass...</td>\n",
       "      <td>A Los Angeles County massage therapist, who di...</td>\n",
       "      <td>['Sexual Harassment', 'Suits and Litigation (C...</td>\n",
       "    </tr>\n",
       "    <tr>\n",
       "      <th>4</th>\n",
       "      <td>2020-01-01</td>\n",
       "      <td>Dizzying Day for Trump Caps a Year Full of Them</td>\n",
       "      <td>The president monitored a Middle East crisis f...</td>\n",
       "      <td>['United States International Relations', 'Uni...</td>\n",
       "    </tr>\n",
       "  </tbody>\n",
       "</table>\n",
       "</div>"
      ],
      "text/plain": [
       "         date                                           headline  \\\n",
       "0  2020-01-01  ‘Battling a Demon’: Drifter Sought Help Before...   \n",
       "1  2020-01-01  F.D.A. Plans to Ban Most E-Cigarette Flavors b...   \n",
       "2  2020-01-01  Hong Kong Protesters Return to Streets as New ...   \n",
       "3  2020-01-01  Kevin Spacey Accuser’s Estate Drops Sexual Ass...   \n",
       "4  2020-01-01    Dizzying Day for Trump Caps a Year Full of Them   \n",
       "\n",
       "                                             snippet  \\\n",
       "0  The gunman who shot two parishioners at the We...   \n",
       "1  The tobacco and vaping industries and conserva...   \n",
       "2  Weeks of relative calm ended on Wednesday, as ...   \n",
       "3  A Los Angeles County massage therapist, who di...   \n",
       "4  The president monitored a Middle East crisis f...   \n",
       "\n",
       "                                            keywords  \n",
       "0  ['Churches (Buildings)', 'Murders, Attempted M...  \n",
       "1  ['E-Cigarettes', 'Recalls and Bans of Products...  \n",
       "2  ['Demonstrations, Protests and Riots', 'Hong K...  \n",
       "3  ['Sexual Harassment', 'Suits and Litigation (C...  \n",
       "4  ['United States International Relations', 'Uni...  "
      ]
     },
     "execution_count": 9,
     "metadata": {},
     "output_type": "execute_result"
    }
   ],
   "source": [
    "news[['date','headline', 'snippet', 'keywords']][:5]"
   ]
  },
  {
   "cell_type": "raw",
   "id": "23048baf-f5a3-418d-a6f9-16cf2522a93b",
   "metadata": {},
   "source": [
    "news.to_csv('samples.csv')"
   ]
  },
  {
   "cell_type": "raw",
   "id": "0ca3e851-f989-417c-b31f-aa8a4267bcbb",
   "metadata": {},
   "source": [
    "len(news)"
   ]
  },
  {
   "cell_type": "code",
   "execution_count": null,
   "id": "a06952a9-a009-40c4-8374-076bdf7cecec",
   "metadata": {},
   "outputs": [],
   "source": []
  },
  {
   "cell_type": "code",
   "execution_count": 10,
   "id": "f510c55d-9ca8-4463-8bdd-68aa7b8108a1",
   "metadata": {},
   "outputs": [],
   "source": [
    "def Num_na(df):\n",
    "    print (f\"Total NA in headline: {sum(df['headline'].isna())}\")\n",
    "    print (f\"Total NA in Snippet: {sum(df['snippet'].isna())}\")\n",
    "    print (f\"Total NA in Keywords: {sum(df['keywords'].isna())}\")\n",
    "\n",
    "def prep_news(news):\n",
    "    db = news.copy()\n",
    "    print (f'Processing {len(db)} articles...')\n",
    "    Num_na(db)\n",
    "    print (f'removing empty fields.')\n",
    "    db[\"headline\"] = db[\"headline\"].fillna(\" \")\n",
    "    db[\"snippet\"] = db[\"snippet\"].fillna(\" \")\n",
    "    Num_na(db)\n",
    "    return (db)\n",
    "    "
   ]
  },
  {
   "cell_type": "code",
   "execution_count": 11,
   "id": "5d6ec57f-90a7-4310-a38c-1e9b236e3f60",
   "metadata": {},
   "outputs": [
    {
     "name": "stdout",
     "output_type": "stream",
     "text": [
      "Processing 47078 articles...\n",
      "Total NA in headline: 1\n",
      "Total NA in Snippet: 3381\n",
      "Total NA in Keywords: 0\n",
      "removing empty fields.\n",
      "Total NA in headline: 0\n",
      "Total NA in Snippet: 0\n",
      "Total NA in Keywords: 0\n"
     ]
    }
   ],
   "source": [
    "data = prep_news(news)"
   ]
  },
  {
   "cell_type": "code",
   "execution_count": 13,
   "id": "4392a95d-3998-4095-8edd-db9c829c4d10",
   "metadata": {},
   "outputs": [
    {
     "data": {
      "text/html": [
       "<div>\n",
       "<style scoped>\n",
       "    .dataframe tbody tr th:only-of-type {\n",
       "        vertical-align: middle;\n",
       "    }\n",
       "\n",
       "    .dataframe tbody tr th {\n",
       "        vertical-align: top;\n",
       "    }\n",
       "\n",
       "    .dataframe thead th {\n",
       "        text-align: right;\n",
       "    }\n",
       "</style>\n",
       "<table border=\"1\" class=\"dataframe\">\n",
       "  <thead>\n",
       "    <tr style=\"text-align: right;\">\n",
       "      <th></th>\n",
       "      <th>headline</th>\n",
       "      <th>date</th>\n",
       "      <th>doc_type</th>\n",
       "      <th>type_of_material</th>\n",
       "      <th>snippet</th>\n",
       "      <th>source</th>\n",
       "      <th>news_desk</th>\n",
       "      <th>section_name</th>\n",
       "      <th>keywords</th>\n",
       "    </tr>\n",
       "  </thead>\n",
       "  <tbody>\n",
       "    <tr>\n",
       "      <th>0</th>\n",
       "      <td>‘Battling a Demon’: Drifter Sought Help Before...</td>\n",
       "      <td>2020-01-01</td>\n",
       "      <td>article</td>\n",
       "      <td>News</td>\n",
       "      <td>The gunman who shot two parishioners at the We...</td>\n",
       "      <td>The New York Times</td>\n",
       "      <td>National</td>\n",
       "      <td>U.S.</td>\n",
       "      <td>['Churches (Buildings)', 'Murders, Attempted M...</td>\n",
       "    </tr>\n",
       "    <tr>\n",
       "      <th>1</th>\n",
       "      <td>F.D.A. Plans to Ban Most E-Cigarette Flavors b...</td>\n",
       "      <td>2020-01-01</td>\n",
       "      <td>article</td>\n",
       "      <td>News</td>\n",
       "      <td>The tobacco and vaping industries and conserva...</td>\n",
       "      <td>The New York Times</td>\n",
       "      <td>Science</td>\n",
       "      <td>Health</td>\n",
       "      <td>['E-Cigarettes', 'Recalls and Bans of Products...</td>\n",
       "    </tr>\n",
       "    <tr>\n",
       "      <th>2</th>\n",
       "      <td>Hong Kong Protesters Return to Streets as New ...</td>\n",
       "      <td>2020-01-01</td>\n",
       "      <td>article</td>\n",
       "      <td>News</td>\n",
       "      <td>Weeks of relative calm ended on Wednesday, as ...</td>\n",
       "      <td>The New York Times</td>\n",
       "      <td>Foreign</td>\n",
       "      <td>World</td>\n",
       "      <td>['Demonstrations, Protests and Riots', 'Hong K...</td>\n",
       "    </tr>\n",
       "    <tr>\n",
       "      <th>3</th>\n",
       "      <td>Kevin Spacey Accuser’s Estate Drops Sexual Ass...</td>\n",
       "      <td>2020-01-01</td>\n",
       "      <td>article</td>\n",
       "      <td>News</td>\n",
       "      <td>A Los Angeles County massage therapist, who di...</td>\n",
       "      <td>The New York Times</td>\n",
       "      <td>Express</td>\n",
       "      <td>U.S.</td>\n",
       "      <td>['Sexual Harassment', 'Suits and Litigation (C...</td>\n",
       "    </tr>\n",
       "    <tr>\n",
       "      <th>4</th>\n",
       "      <td>Dizzying Day for Trump Caps a Year Full of Them</td>\n",
       "      <td>2020-01-01</td>\n",
       "      <td>article</td>\n",
       "      <td>News</td>\n",
       "      <td>The president monitored a Middle East crisis f...</td>\n",
       "      <td>The New York Times</td>\n",
       "      <td>Washington</td>\n",
       "      <td>U.S.</td>\n",
       "      <td>['United States International Relations', 'Uni...</td>\n",
       "    </tr>\n",
       "    <tr>\n",
       "      <th>...</th>\n",
       "      <td>...</td>\n",
       "      <td>...</td>\n",
       "      <td>...</td>\n",
       "      <td>...</td>\n",
       "      <td>...</td>\n",
       "      <td>...</td>\n",
       "      <td>...</td>\n",
       "      <td>...</td>\n",
       "      <td>...</td>\n",
       "    </tr>\n",
       "    <tr>\n",
       "      <th>47073</th>\n",
       "      <td>Inside a Deadly Bronx Fire: Scenes of Chaos, D...</td>\n",
       "      <td>2022-01-16</td>\n",
       "      <td>article</td>\n",
       "      <td>News</td>\n",
       "      <td>When the building where they made their home b...</td>\n",
       "      <td>The New York Times</td>\n",
       "      <td>Metro</td>\n",
       "      <td>New York</td>\n",
       "      <td>['Fires and Firefighters', 'Deaths (Fatalities...</td>\n",
       "    </tr>\n",
       "    <tr>\n",
       "      <th>47074</th>\n",
       "      <td>Andrew Vachss, Children’s Champion in Court an...</td>\n",
       "      <td>2022-01-16</td>\n",
       "      <td>article</td>\n",
       "      <td>News</td>\n",
       "      <td>In hard-edged fiction and in the real-life cou...</td>\n",
       "      <td>The New York Times</td>\n",
       "      <td>Obits</td>\n",
       "      <td>Obituaries</td>\n",
       "      <td>['Child Abuse and Neglect', 'Sex Crimes', 'Dea...</td>\n",
       "    </tr>\n",
       "    <tr>\n",
       "      <th>47075</th>\n",
       "      <td>Tonga Shrouded by Ash and Mystery After Powerf...</td>\n",
       "      <td>2022-01-16</td>\n",
       "      <td>article</td>\n",
       "      <td>News</td>\n",
       "      <td>So far, the only deaths reported occurred 6,00...</td>\n",
       "      <td>The New York Times</td>\n",
       "      <td>Foreign</td>\n",
       "      <td>World</td>\n",
       "      <td>['Volcanoes', 'Tidal Waves and Tsunamis', 'Dea...</td>\n",
       "    </tr>\n",
       "    <tr>\n",
       "      <th>47076</th>\n",
       "      <td>In reporting a drop in daily cases, Hochul see...</td>\n",
       "      <td>2022-01-16</td>\n",
       "      <td>article</td>\n",
       "      <td>News</td>\n",
       "      <td></td>\n",
       "      <td>The New York Times</td>\n",
       "      <td>Metro</td>\n",
       "      <td>New York</td>\n",
       "      <td>[]</td>\n",
       "    </tr>\n",
       "    <tr>\n",
       "      <th>47077</th>\n",
       "      <td>Charles E. McGee, Tuskegee Airman Promoted by ...</td>\n",
       "      <td>2022-01-16</td>\n",
       "      <td>article</td>\n",
       "      <td>News</td>\n",
       "      <td>In three wars, he flew a total of 409 combat m...</td>\n",
       "      <td>The New York Times</td>\n",
       "      <td>Obits</td>\n",
       "      <td>Obituaries</td>\n",
       "      <td>['United States Defense and Military Forces', ...</td>\n",
       "    </tr>\n",
       "  </tbody>\n",
       "</table>\n",
       "<p>47078 rows × 9 columns</p>\n",
       "</div>"
      ],
      "text/plain": [
       "                                                headline        date doc_type  \\\n",
       "0      ‘Battling a Demon’: Drifter Sought Help Before...  2020-01-01  article   \n",
       "1      F.D.A. Plans to Ban Most E-Cigarette Flavors b...  2020-01-01  article   \n",
       "2      Hong Kong Protesters Return to Streets as New ...  2020-01-01  article   \n",
       "3      Kevin Spacey Accuser’s Estate Drops Sexual Ass...  2020-01-01  article   \n",
       "4        Dizzying Day for Trump Caps a Year Full of Them  2020-01-01  article   \n",
       "...                                                  ...         ...      ...   \n",
       "47073  Inside a Deadly Bronx Fire: Scenes of Chaos, D...  2022-01-16  article   \n",
       "47074  Andrew Vachss, Children’s Champion in Court an...  2022-01-16  article   \n",
       "47075  Tonga Shrouded by Ash and Mystery After Powerf...  2022-01-16  article   \n",
       "47076  In reporting a drop in daily cases, Hochul see...  2022-01-16  article   \n",
       "47077  Charles E. McGee, Tuskegee Airman Promoted by ...  2022-01-16  article   \n",
       "\n",
       "      type_of_material                                            snippet  \\\n",
       "0                 News  The gunman who shot two parishioners at the We...   \n",
       "1                 News  The tobacco and vaping industries and conserva...   \n",
       "2                 News  Weeks of relative calm ended on Wednesday, as ...   \n",
       "3                 News  A Los Angeles County massage therapist, who di...   \n",
       "4                 News  The president monitored a Middle East crisis f...   \n",
       "...                ...                                                ...   \n",
       "47073             News  When the building where they made their home b...   \n",
       "47074             News  In hard-edged fiction and in the real-life cou...   \n",
       "47075             News  So far, the only deaths reported occurred 6,00...   \n",
       "47076             News                                                      \n",
       "47077             News  In three wars, he flew a total of 409 combat m...   \n",
       "\n",
       "                   source   news_desk section_name  \\\n",
       "0      The New York Times    National         U.S.   \n",
       "1      The New York Times     Science       Health   \n",
       "2      The New York Times     Foreign        World   \n",
       "3      The New York Times     Express         U.S.   \n",
       "4      The New York Times  Washington         U.S.   \n",
       "...                   ...         ...          ...   \n",
       "47073  The New York Times       Metro     New York   \n",
       "47074  The New York Times       Obits   Obituaries   \n",
       "47075  The New York Times     Foreign        World   \n",
       "47076  The New York Times       Metro     New York   \n",
       "47077  The New York Times       Obits   Obituaries   \n",
       "\n",
       "                                                keywords  \n",
       "0      ['Churches (Buildings)', 'Murders, Attempted M...  \n",
       "1      ['E-Cigarettes', 'Recalls and Bans of Products...  \n",
       "2      ['Demonstrations, Protests and Riots', 'Hong K...  \n",
       "3      ['Sexual Harassment', 'Suits and Litigation (C...  \n",
       "4      ['United States International Relations', 'Uni...  \n",
       "...                                                  ...  \n",
       "47073  ['Fires and Firefighters', 'Deaths (Fatalities...  \n",
       "47074  ['Child Abuse and Neglect', 'Sex Crimes', 'Dea...  \n",
       "47075  ['Volcanoes', 'Tidal Waves and Tsunamis', 'Dea...  \n",
       "47076                                                 []  \n",
       "47077  ['United States Defense and Military Forces', ...  \n",
       "\n",
       "[47078 rows x 9 columns]"
      ]
     },
     "execution_count": 13,
     "metadata": {},
     "output_type": "execute_result"
    }
   ],
   "source": [
    "data"
   ]
  },
  {
   "cell_type": "code",
   "execution_count": 12,
   "id": "f671d7ed-31d4-4fc2-8b42-7205d69ee5fb",
   "metadata": {},
   "outputs": [
    {
     "ename": "NameError",
     "evalue": "name 'clean_doc' is not defined",
     "output_type": "error",
     "traceback": [
      "\u001b[1;31m---------------------------------------------------------------------------\u001b[0m",
      "\u001b[1;31mNameError\u001b[0m                                 Traceback (most recent call last)",
      "Input \u001b[1;32mIn [12]\u001b[0m, in \u001b[0;36m<cell line: 1>\u001b[1;34m()\u001b[0m\n\u001b[0;32m      1\u001b[0m \u001b[38;5;28;01mfor\u001b[39;00m i \u001b[38;5;129;01min\u001b[39;00m data:\n\u001b[1;32m----> 2\u001b[0m     text \u001b[38;5;241m=\u001b[39m \u001b[43mclean_doc\u001b[49m(i)\n\u001b[0;32m      3\u001b[0m     processed_text\u001b[38;5;241m.\u001b[39mappend(text)\n\u001b[0;32m      4\u001b[0m \u001b[38;5;28mprint\u001b[39m (\u001b[38;5;28mlen\u001b[39m(processed_text))\n",
      "\u001b[1;31mNameError\u001b[0m: name 'clean_doc' is not defined"
     ]
    }
   ],
   "source": [
    "for i in data:\n",
    "    text = clean_doc(i)\n",
    "    processed_text.append(text)\n",
    "print (len(processed_text))"
   ]
  },
  {
   "cell_type": "code",
   "execution_count": null,
   "id": "94a19abc-41ed-4921-922b-d7e7f082fde1",
   "metadata": {},
   "outputs": [],
   "source": []
  },
  {
   "cell_type": "code",
   "execution_count": 23,
   "id": "ac6c435b-6433-4304-b262-4b3d325a0823",
   "metadata": {},
   "outputs": [
    {
     "ename": "SyntaxError",
     "evalue": "invalid syntax (1190623131.py, line 1)",
     "output_type": "error",
     "traceback": [
      "\u001b[0;36m  Input \u001b[0;32mIn [23]\u001b[0;36m\u001b[0m\n\u001b[0;31m    def concat_news()\u001b[0m\n\u001b[0m                     ^\u001b[0m\n\u001b[0;31mSyntaxError\u001b[0m\u001b[0;31m:\u001b[0m invalid syntax\n"
     ]
    }
   ],
   "source": [
    "def concat_news()"
   ]
  },
  {
   "cell_type": "code",
   "execution_count": 24,
   "id": "172498de-5aed-4562-b299-dc4db8616f1a",
   "metadata": {},
   "outputs": [],
   "source": [
    "news['articles'] = news['headline']+\" \"+news['snippet'] + \" \" + news['keywords']\n",
    "#pd.DataFrame(news['articles'][3])"
   ]
  },
  {
   "cell_type": "code",
   "execution_count": 25,
   "id": "8cda3556-0c7b-4e37-8fb8-ba614bfd7e4b",
   "metadata": {},
   "outputs": [
    {
     "data": {
      "text/plain": [
       "\"UMass Amherst Hires Cybersecurity Firm to Investigate Racist Emails The university’s vice chancellor told students the emails, which targeted Black students, were part of a rise in “anti-Black racist incidents” on campus this academic year. ['Colleges and Universities', 'Discrimination', 'Black People', 'Blacks', 'E-Mail']\""
      ]
     },
     "execution_count": 25,
     "metadata": {},
     "output_type": "execute_result"
    }
   ],
   "source": [
    "news['articles'][3]"
   ]
  },
  {
   "cell_type": "raw",
   "id": "9c75fba8-ab76-4610-bc9b-a6b5d1af3dee",
   "metadata": {},
   "source": [
    "news['articles'] = news['keywords']\n",
    "news['articles'][0]"
   ]
  },
  {
   "cell_type": "code",
   "execution_count": 26,
   "id": "205c6f85-88c8-4227-9d81-2f1ba5ae4165",
   "metadata": {},
   "outputs": [],
   "source": [
    "titles = []\n",
    "articles = []"
   ]
  },
  {
   "cell_type": "code",
   "execution_count": 27,
   "id": "42aa9d3b-cdd6-4a5e-864f-5e9b6a46d749",
   "metadata": {},
   "outputs": [
    {
     "data": {
      "text/plain": [
       "47078"
      ]
     },
     "execution_count": 27,
     "metadata": {},
     "output_type": "execute_result"
    }
   ],
   "source": [
    "titles = news['headline']\n",
    "len(titles)"
   ]
  },
  {
   "cell_type": "code",
   "execution_count": 28,
   "id": "919cc12f-dc32-4919-9380-d621bfe54c0e",
   "metadata": {},
   "outputs": [
    {
     "name": "stdout",
     "output_type": "stream",
     "text": [
      "47078\n"
     ]
    },
    {
     "data": {
      "text/plain": [
       "\"When the Doctor’s Notes Hurt Your Feelings Are you a “poor historian,” “well nourished” or in need of a “time out”? As patients gain access to their own medical records, the notes left by doctors can sting. ['Electronic Health Records', 'Doctors', 'internal-sub-only']\""
      ]
     },
     "execution_count": 28,
     "metadata": {},
     "output_type": "execute_result"
    }
   ],
   "source": [
    "articles = news['articles'].tolist()\n",
    "print (len(articles))\n",
    "articles[0]"
   ]
  },
  {
   "cell_type": "code",
   "execution_count": 29,
   "id": "83b5579c-7162-40e9-85f1-70e98bd828b9",
   "metadata": {},
   "outputs": [],
   "source": [
    "processed_text = []"
   ]
  },
  {
   "cell_type": "code",
   "execution_count": 30,
   "id": "adba9596-bee6-4163-be3c-b0be1c40d94f",
   "metadata": {},
   "outputs": [
    {
     "data": {
      "text/plain": [
       "\"‘Everything Going the Wrong Way’: Dollar Stores Hit a Pandemic Downturn Their business model is being tested by worker burnout, pressure to raise wages, supply chain problems and growing local opposition. ['Shopping and Retail', 'Wages and Salaries', 'Labor and Jobs', 'Part-Time Employment', 'Working Hours', 'Workplace Hazards and Violations', 'International Trade and World Market']\""
      ]
     },
     "execution_count": 30,
     "metadata": {},
     "output_type": "execute_result"
    }
   ],
   "source": [
    "articles[4]"
   ]
  },
  {
   "cell_type": "code",
   "execution_count": 31,
   "id": "6532ad83-6fef-4e3e-be3f-705d2264779d",
   "metadata": {},
   "outputs": [
    {
     "ename": "NameError",
     "evalue": "name 'clean_doc' is not defined",
     "output_type": "error",
     "traceback": [
      "\u001b[0;31m---------------------------------------------------------------------------\u001b[0m",
      "\u001b[0;31mNameError\u001b[0m                                 Traceback (most recent call last)",
      "Input \u001b[0;32mIn [31]\u001b[0m, in \u001b[0;36m<cell line: 1>\u001b[0;34m()\u001b[0m\n\u001b[1;32m      1\u001b[0m \u001b[38;5;28;01mfor\u001b[39;00m i \u001b[38;5;129;01min\u001b[39;00m articles:\n\u001b[0;32m----> 2\u001b[0m     text \u001b[38;5;241m=\u001b[39m \u001b[43mclean_doc\u001b[49m(i)\n\u001b[1;32m      3\u001b[0m     processed_text\u001b[38;5;241m.\u001b[39mappend(text)\n\u001b[1;32m      4\u001b[0m \u001b[38;5;28mprint\u001b[39m (\u001b[38;5;28mlen\u001b[39m(processed_text))\n",
      "\u001b[0;31mNameError\u001b[0m: name 'clean_doc' is not defined"
     ]
    }
   ],
   "source": [
    "for i in articles:\n",
    "    text = clean_doc(i)\n",
    "    processed_text.append(text)\n",
    "print (len(processed_text))"
   ]
  },
  {
   "cell_type": "code",
   "execution_count": 32,
   "id": "90c362f4-3c16-4610-aae0-b6502cbbb6e6",
   "metadata": {},
   "outputs": [],
   "source": [
    "final_processed_text = []"
   ]
  },
  {
   "cell_type": "code",
   "execution_count": 33,
   "id": "c99666d7-efde-41db-abab-f0b9e5ea096c",
   "metadata": {},
   "outputs": [
    {
     "data": {
      "text/plain": [
       "0"
      ]
     },
     "execution_count": 33,
     "metadata": {},
     "output_type": "execute_result"
    }
   ],
   "source": [
    "len(final_processed_text)"
   ]
  },
  {
   "cell_type": "code",
   "execution_count": 34,
   "id": "45285cae-c78c-4b64-b60d-99526eb8d67f",
   "metadata": {},
   "outputs": [
    {
     "data": {
      "text/plain": [
       "47078"
      ]
     },
     "execution_count": 34,
     "metadata": {},
     "output_type": "execute_result"
    }
   ],
   "source": [
    "len(news)"
   ]
  },
  {
   "cell_type": "code",
   "execution_count": 35,
   "id": "4696f68a-ba34-4be6-ad88-d45e05a9381c",
   "metadata": {},
   "outputs": [
    {
     "data": {
      "text/plain": [
       "0"
      ]
     },
     "execution_count": 35,
     "metadata": {},
     "output_type": "execute_result"
    }
   ],
   "source": [
    "for i in processed_text:\n",
    "    if bool(i) == False:\n",
    "        i = \"error\"\n",
    "\n",
    "    temp_DSI = i[0]\n",
    "    for j in range(1, len(i)):\n",
    "        temp_DSI = temp_DSI+' '+i[j]\n",
    "    final_processed_text.append(temp_DSI)\n",
    "len(final_processed_text)"
   ]
  },
  {
   "cell_type": "code",
   "execution_count": 36,
   "id": "44d92222-207e-4cbe-a6ac-45b184a59cda",
   "metadata": {},
   "outputs": [
    {
     "data": {
      "text/plain": [
       "[]"
      ]
     },
     "execution_count": 36,
     "metadata": {},
     "output_type": "execute_result"
    }
   ],
   "source": [
    "final_processed_text[:5]"
   ]
  },
  {
   "cell_type": "markdown",
   "id": "710c1e27-7286-4077-8bea-18713c245c9b",
   "metadata": {},
   "source": [
    "## TFIDF Values"
   ]
  },
  {
   "cell_type": "code",
   "execution_count": 37,
   "id": "28f5b316-0e4a-4f6e-996c-4921e3f5a60c",
   "metadata": {
    "tags": []
   },
   "outputs": [],
   "source": [
    "Tfidf=TfidfVectorizer(\n",
    "    sublinear_tf = True,\n",
    "    min_df = 5,\n",
    "    ngram_range=(1,2), \n",
    "    stop_words = 'english',\n",
    "    strip_accents= 'unicode', \n",
    "    dtype=np.float32\n",
    ")"
   ]
  },
  {
   "cell_type": "code",
   "execution_count": 38,
   "id": "238774cc-ecdf-4b75-828d-df153cfd190c",
   "metadata": {},
   "outputs": [
    {
     "ename": "ValueError",
     "evalue": "empty vocabulary; perhaps the documents only contain stop words",
     "output_type": "error",
     "traceback": [
      "\u001b[0;31m---------------------------------------------------------------------------\u001b[0m",
      "\u001b[0;31mValueError\u001b[0m                                Traceback (most recent call last)",
      "Input \u001b[0;32mIn [38]\u001b[0m, in \u001b[0;36m<cell line: 1>\u001b[0;34m()\u001b[0m\n\u001b[0;32m----> 1\u001b[0m TFIDF_matrix \u001b[38;5;241m=\u001b[39m \u001b[43mTfidf\u001b[49m\u001b[38;5;241;43m.\u001b[39;49m\u001b[43mfit_transform\u001b[49m\u001b[43m(\u001b[49m\u001b[43mfinal_processed_text\u001b[49m\u001b[43m)\u001b[49m\n",
      "File \u001b[0;32m~/.local/lib/python3.8/site-packages/sklearn/feature_extraction/text.py:2077\u001b[0m, in \u001b[0;36mTfidfVectorizer.fit_transform\u001b[0;34m(self, raw_documents, y)\u001b[0m\n\u001b[1;32m   2058\u001b[0m \u001b[38;5;124;03m\"\"\"Learn vocabulary and idf, return document-term matrix.\u001b[39;00m\n\u001b[1;32m   2059\u001b[0m \n\u001b[1;32m   2060\u001b[0m \u001b[38;5;124;03mThis is equivalent to fit followed by transform, but more efficiently\u001b[39;00m\n\u001b[0;32m   (...)\u001b[0m\n\u001b[1;32m   2074\u001b[0m \u001b[38;5;124;03m    Tf-idf-weighted document-term matrix.\u001b[39;00m\n\u001b[1;32m   2075\u001b[0m \u001b[38;5;124;03m\"\"\"\u001b[39;00m\n\u001b[1;32m   2076\u001b[0m \u001b[38;5;28mself\u001b[39m\u001b[38;5;241m.\u001b[39m_check_params()\n\u001b[0;32m-> 2077\u001b[0m X \u001b[38;5;241m=\u001b[39m \u001b[38;5;28;43msuper\u001b[39;49m\u001b[43m(\u001b[49m\u001b[43m)\u001b[49m\u001b[38;5;241;43m.\u001b[39;49m\u001b[43mfit_transform\u001b[49m\u001b[43m(\u001b[49m\u001b[43mraw_documents\u001b[49m\u001b[43m)\u001b[49m\n\u001b[1;32m   2078\u001b[0m \u001b[38;5;28mself\u001b[39m\u001b[38;5;241m.\u001b[39m_tfidf\u001b[38;5;241m.\u001b[39mfit(X)\n\u001b[1;32m   2079\u001b[0m \u001b[38;5;66;03m# X is already a transformed view of raw_documents so\u001b[39;00m\n\u001b[1;32m   2080\u001b[0m \u001b[38;5;66;03m# we set copy to False\u001b[39;00m\n",
      "File \u001b[0;32m~/.local/lib/python3.8/site-packages/sklearn/feature_extraction/text.py:1330\u001b[0m, in \u001b[0;36mCountVectorizer.fit_transform\u001b[0;34m(self, raw_documents, y)\u001b[0m\n\u001b[1;32m   1322\u001b[0m             warnings\u001b[38;5;241m.\u001b[39mwarn(\n\u001b[1;32m   1323\u001b[0m                 \u001b[38;5;124m\"\u001b[39m\u001b[38;5;124mUpper case characters found in\u001b[39m\u001b[38;5;124m\"\u001b[39m\n\u001b[1;32m   1324\u001b[0m                 \u001b[38;5;124m\"\u001b[39m\u001b[38;5;124m vocabulary while \u001b[39m\u001b[38;5;124m'\u001b[39m\u001b[38;5;124mlowercase\u001b[39m\u001b[38;5;124m'\u001b[39m\u001b[38;5;124m\"\u001b[39m\n\u001b[1;32m   1325\u001b[0m                 \u001b[38;5;124m\"\u001b[39m\u001b[38;5;124m is True. These entries will not\u001b[39m\u001b[38;5;124m\"\u001b[39m\n\u001b[1;32m   1326\u001b[0m                 \u001b[38;5;124m\"\u001b[39m\u001b[38;5;124m be matched with any documents\u001b[39m\u001b[38;5;124m\"\u001b[39m\n\u001b[1;32m   1327\u001b[0m             )\n\u001b[1;32m   1328\u001b[0m             \u001b[38;5;28;01mbreak\u001b[39;00m\n\u001b[0;32m-> 1330\u001b[0m vocabulary, X \u001b[38;5;241m=\u001b[39m \u001b[38;5;28;43mself\u001b[39;49m\u001b[38;5;241;43m.\u001b[39;49m\u001b[43m_count_vocab\u001b[49m\u001b[43m(\u001b[49m\u001b[43mraw_documents\u001b[49m\u001b[43m,\u001b[49m\u001b[43m \u001b[49m\u001b[38;5;28;43mself\u001b[39;49m\u001b[38;5;241;43m.\u001b[39;49m\u001b[43mfixed_vocabulary_\u001b[49m\u001b[43m)\u001b[49m\n\u001b[1;32m   1332\u001b[0m \u001b[38;5;28;01mif\u001b[39;00m \u001b[38;5;28mself\u001b[39m\u001b[38;5;241m.\u001b[39mbinary:\n\u001b[1;32m   1333\u001b[0m     X\u001b[38;5;241m.\u001b[39mdata\u001b[38;5;241m.\u001b[39mfill(\u001b[38;5;241m1\u001b[39m)\n",
      "File \u001b[0;32m~/.local/lib/python3.8/site-packages/sklearn/feature_extraction/text.py:1220\u001b[0m, in \u001b[0;36mCountVectorizer._count_vocab\u001b[0;34m(self, raw_documents, fixed_vocab)\u001b[0m\n\u001b[1;32m   1218\u001b[0m     vocabulary \u001b[38;5;241m=\u001b[39m \u001b[38;5;28mdict\u001b[39m(vocabulary)\n\u001b[1;32m   1219\u001b[0m     \u001b[38;5;28;01mif\u001b[39;00m \u001b[38;5;129;01mnot\u001b[39;00m vocabulary:\n\u001b[0;32m-> 1220\u001b[0m         \u001b[38;5;28;01mraise\u001b[39;00m \u001b[38;5;167;01mValueError\u001b[39;00m(\n\u001b[1;32m   1221\u001b[0m             \u001b[38;5;124m\"\u001b[39m\u001b[38;5;124mempty vocabulary; perhaps the documents only contain stop words\u001b[39m\u001b[38;5;124m\"\u001b[39m\n\u001b[1;32m   1222\u001b[0m         )\n\u001b[1;32m   1224\u001b[0m \u001b[38;5;28;01mif\u001b[39;00m indptr[\u001b[38;5;241m-\u001b[39m\u001b[38;5;241m1\u001b[39m] \u001b[38;5;241m>\u001b[39m np\u001b[38;5;241m.\u001b[39miinfo(np\u001b[38;5;241m.\u001b[39mint32)\u001b[38;5;241m.\u001b[39mmax:  \u001b[38;5;66;03m# = 2**31 - 1\u001b[39;00m\n\u001b[1;32m   1225\u001b[0m     \u001b[38;5;28;01mif\u001b[39;00m _IS_32BIT:\n",
      "\u001b[0;31mValueError\u001b[0m: empty vocabulary; perhaps the documents only contain stop words"
     ]
    }
   ],
   "source": [
    "TFIDF_matrix = Tfidf.fit_transform(final_processed_text)"
   ]
  },
  {
   "cell_type": "code",
   "execution_count": 39,
   "id": "1974f221-8ccc-45a8-b0ad-2f0aa3afe23b",
   "metadata": {},
   "outputs": [
    {
     "ename": "NameError",
     "evalue": "name 'TFIDF_matrix' is not defined",
     "output_type": "error",
     "traceback": [
      "\u001b[0;31m---------------------------------------------------------------------------\u001b[0m",
      "\u001b[0;31mNameError\u001b[0m                                 Traceback (most recent call last)",
      "Input \u001b[0;32mIn [39]\u001b[0m, in \u001b[0;36m<cell line: 1>\u001b[0;34m()\u001b[0m\n\u001b[0;32m----> 1\u001b[0m matrix \u001b[38;5;241m=\u001b[39m pd\u001b[38;5;241m.\u001b[39mDataFrame(\u001b[43mTFIDF_matrix\u001b[49m\u001b[38;5;241m.\u001b[39mtoarray(), \n\u001b[1;32m      2\u001b[0m                       columns \u001b[38;5;241m=\u001b[39m Tfidf\u001b[38;5;241m.\u001b[39mget_feature_names_out(),\n\u001b[1;32m      3\u001b[0m                       index \u001b[38;5;241m=\u001b[39m titles\n\u001b[1;32m      4\u001b[0m                      )\n",
      "\u001b[0;31mNameError\u001b[0m: name 'TFIDF_matrix' is not defined"
     ]
    }
   ],
   "source": [
    "matrix = pd.DataFrame(TFIDF_matrix.toarray(), \n",
    "                      columns = Tfidf.get_feature_names_out(),\n",
    "                      index = titles\n",
    "                     )"
   ]
  },
  {
   "cell_type": "code",
   "execution_count": 40,
   "id": "8d9ac89e-4068-48aa-843d-6ebfe1c404d8",
   "metadata": {},
   "outputs": [],
   "source": [
    "average_TFIDF = {}"
   ]
  },
  {
   "cell_type": "code",
   "execution_count": 41,
   "id": "0566a21a-6f08-48ab-9027-0c81f384c28d",
   "metadata": {},
   "outputs": [
    {
     "ename": "NameError",
     "evalue": "name 'matrix' is not defined",
     "output_type": "error",
     "traceback": [
      "\u001b[0;31m---------------------------------------------------------------------------\u001b[0m",
      "\u001b[0;31mNameError\u001b[0m                                 Traceback (most recent call last)",
      "Input \u001b[0;32mIn [41]\u001b[0m, in \u001b[0;36m<cell line: 1>\u001b[0;34m()\u001b[0m\n\u001b[0;32m----> 1\u001b[0m \u001b[38;5;28;01mfor\u001b[39;00m i \u001b[38;5;129;01min\u001b[39;00m \u001b[43mmatrix\u001b[49m\u001b[38;5;241m.\u001b[39mcolumns:\n\u001b[1;32m      2\u001b[0m     average_TFIDF[i] \u001b[38;5;241m=\u001b[39m np\u001b[38;5;241m.\u001b[39mmean(matrix[i])\n",
      "\u001b[0;31mNameError\u001b[0m: name 'matrix' is not defined"
     ]
    }
   ],
   "source": [
    "for i in matrix.columns:\n",
    "    average_TFIDF[i] = np.mean(matrix[i])"
   ]
  },
  {
   "cell_type": "code",
   "execution_count": 42,
   "id": "3b98e47e-f760-434f-a34b-0d748ff3773c",
   "metadata": {},
   "outputs": [],
   "source": [
    "average_TFIDF_DF=pd.DataFrame(average_TFIDF,index=[0]).transpose()"
   ]
  },
  {
   "cell_type": "code",
   "execution_count": 43,
   "id": "f8912fc5-7af4-4581-939e-88d3f90c1a02",
   "metadata": {},
   "outputs": [],
   "source": [
    "average_TFIDF_DF.columns=['TFIDF']"
   ]
  },
  {
   "cell_type": "code",
   "execution_count": 44,
   "id": "268fed01-1ca0-4b8d-8db1-d7f8182266d0",
   "metadata": {},
   "outputs": [
    {
     "ename": "IndexError",
     "evalue": "cannot do a non-empty take from an empty axes.",
     "output_type": "error",
     "traceback": [
      "\u001b[0;31m---------------------------------------------------------------------------\u001b[0m",
      "\u001b[0;31mIndexError\u001b[0m                                Traceback (most recent call last)",
      "Input \u001b[0;32mIn [44]\u001b[0m, in \u001b[0;36m<cell line: 1>\u001b[0;34m()\u001b[0m\n\u001b[0;32m----> 1\u001b[0m Q1\u001b[38;5;241m=\u001b[39m\u001b[43mnp\u001b[49m\u001b[38;5;241;43m.\u001b[39;49m\u001b[43mpercentile\u001b[49m\u001b[43m(\u001b[49m\u001b[43maverage_TFIDF_DF\u001b[49m\u001b[43m,\u001b[49m\u001b[43m \u001b[49m\u001b[38;5;241;43m25\u001b[39;49m\u001b[43m)\u001b[49m\n\u001b[1;32m      2\u001b[0m Q3\u001b[38;5;241m=\u001b[39mnp\u001b[38;5;241m.\u001b[39mpercentile(average_TFIDF_DF, \u001b[38;5;241m75\u001b[39m)\n\u001b[1;32m      3\u001b[0m IQR \u001b[38;5;241m=\u001b[39m Q3 \u001b[38;5;241m-\u001b[39m Q1\n",
      "File \u001b[0;32m<__array_function__ internals>:180\u001b[0m, in \u001b[0;36mpercentile\u001b[0;34m(*args, **kwargs)\u001b[0m\n",
      "File \u001b[0;32m~/.local/lib/python3.8/site-packages/numpy/lib/function_base.py:4134\u001b[0m, in \u001b[0;36mpercentile\u001b[0;34m(a, q, axis, out, overwrite_input, method, keepdims, interpolation)\u001b[0m\n\u001b[1;32m   4132\u001b[0m \u001b[38;5;28;01mif\u001b[39;00m \u001b[38;5;129;01mnot\u001b[39;00m _quantile_is_valid(q):\n\u001b[1;32m   4133\u001b[0m     \u001b[38;5;28;01mraise\u001b[39;00m \u001b[38;5;167;01mValueError\u001b[39;00m(\u001b[38;5;124m\"\u001b[39m\u001b[38;5;124mPercentiles must be in the range [0, 100]\u001b[39m\u001b[38;5;124m\"\u001b[39m)\n\u001b[0;32m-> 4134\u001b[0m \u001b[38;5;28;01mreturn\u001b[39;00m \u001b[43m_quantile_unchecked\u001b[49m\u001b[43m(\u001b[49m\n\u001b[1;32m   4135\u001b[0m \u001b[43m    \u001b[49m\u001b[43ma\u001b[49m\u001b[43m,\u001b[49m\u001b[43m \u001b[49m\u001b[43mq\u001b[49m\u001b[43m,\u001b[49m\u001b[43m \u001b[49m\u001b[43maxis\u001b[49m\u001b[43m,\u001b[49m\u001b[43m \u001b[49m\u001b[43mout\u001b[49m\u001b[43m,\u001b[49m\u001b[43m \u001b[49m\u001b[43moverwrite_input\u001b[49m\u001b[43m,\u001b[49m\u001b[43m \u001b[49m\u001b[43mmethod\u001b[49m\u001b[43m,\u001b[49m\u001b[43m \u001b[49m\u001b[43mkeepdims\u001b[49m\u001b[43m)\u001b[49m\n",
      "File \u001b[0;32m~/.local/lib/python3.8/site-packages/numpy/lib/function_base.py:4383\u001b[0m, in \u001b[0;36m_quantile_unchecked\u001b[0;34m(a, q, axis, out, overwrite_input, method, keepdims)\u001b[0m\n\u001b[1;32m   4375\u001b[0m \u001b[38;5;28;01mdef\u001b[39;00m \u001b[38;5;21m_quantile_unchecked\u001b[39m(a,\n\u001b[1;32m   4376\u001b[0m                         q,\n\u001b[1;32m   4377\u001b[0m                         axis\u001b[38;5;241m=\u001b[39m\u001b[38;5;28;01mNone\u001b[39;00m,\n\u001b[0;32m   (...)\u001b[0m\n\u001b[1;32m   4380\u001b[0m                         method\u001b[38;5;241m=\u001b[39m\u001b[38;5;124m\"\u001b[39m\u001b[38;5;124mlinear\u001b[39m\u001b[38;5;124m\"\u001b[39m,\n\u001b[1;32m   4381\u001b[0m                         keepdims\u001b[38;5;241m=\u001b[39m\u001b[38;5;28;01mFalse\u001b[39;00m):\n\u001b[1;32m   4382\u001b[0m     \u001b[38;5;124;03m\"\"\"Assumes that q is in [0, 1], and is an ndarray\"\"\"\u001b[39;00m\n\u001b[0;32m-> 4383\u001b[0m     r, k \u001b[38;5;241m=\u001b[39m \u001b[43m_ureduce\u001b[49m\u001b[43m(\u001b[49m\u001b[43ma\u001b[49m\u001b[43m,\u001b[49m\n\u001b[1;32m   4384\u001b[0m \u001b[43m                    \u001b[49m\u001b[43mfunc\u001b[49m\u001b[38;5;241;43m=\u001b[39;49m\u001b[43m_quantile_ureduce_func\u001b[49m\u001b[43m,\u001b[49m\n\u001b[1;32m   4385\u001b[0m \u001b[43m                    \u001b[49m\u001b[43mq\u001b[49m\u001b[38;5;241;43m=\u001b[39;49m\u001b[43mq\u001b[49m\u001b[43m,\u001b[49m\n\u001b[1;32m   4386\u001b[0m \u001b[43m                    \u001b[49m\u001b[43maxis\u001b[49m\u001b[38;5;241;43m=\u001b[39;49m\u001b[43maxis\u001b[49m\u001b[43m,\u001b[49m\n\u001b[1;32m   4387\u001b[0m \u001b[43m                    \u001b[49m\u001b[43mout\u001b[49m\u001b[38;5;241;43m=\u001b[39;49m\u001b[43mout\u001b[49m\u001b[43m,\u001b[49m\n\u001b[1;32m   4388\u001b[0m \u001b[43m                    \u001b[49m\u001b[43moverwrite_input\u001b[49m\u001b[38;5;241;43m=\u001b[39;49m\u001b[43moverwrite_input\u001b[49m\u001b[43m,\u001b[49m\n\u001b[1;32m   4389\u001b[0m \u001b[43m                    \u001b[49m\u001b[43mmethod\u001b[49m\u001b[38;5;241;43m=\u001b[39;49m\u001b[43mmethod\u001b[49m\u001b[43m)\u001b[49m\n\u001b[1;32m   4390\u001b[0m     \u001b[38;5;28;01mif\u001b[39;00m keepdims:\n\u001b[1;32m   4391\u001b[0m         \u001b[38;5;28;01mreturn\u001b[39;00m r\u001b[38;5;241m.\u001b[39mreshape(q\u001b[38;5;241m.\u001b[39mshape \u001b[38;5;241m+\u001b[39m k)\n",
      "File \u001b[0;32m~/.local/lib/python3.8/site-packages/numpy/lib/function_base.py:3702\u001b[0m, in \u001b[0;36m_ureduce\u001b[0;34m(a, func, **kwargs)\u001b[0m\n\u001b[1;32m   3699\u001b[0m \u001b[38;5;28;01melse\u001b[39;00m:\n\u001b[1;32m   3700\u001b[0m     keepdim \u001b[38;5;241m=\u001b[39m (\u001b[38;5;241m1\u001b[39m,) \u001b[38;5;241m*\u001b[39m a\u001b[38;5;241m.\u001b[39mndim\n\u001b[0;32m-> 3702\u001b[0m r \u001b[38;5;241m=\u001b[39m \u001b[43mfunc\u001b[49m\u001b[43m(\u001b[49m\u001b[43ma\u001b[49m\u001b[43m,\u001b[49m\u001b[43m \u001b[49m\u001b[38;5;241;43m*\u001b[39;49m\u001b[38;5;241;43m*\u001b[39;49m\u001b[43mkwargs\u001b[49m\u001b[43m)\u001b[49m\n\u001b[1;32m   3703\u001b[0m \u001b[38;5;28;01mreturn\u001b[39;00m r, keepdim\n",
      "File \u001b[0;32m~/.local/lib/python3.8/site-packages/numpy/lib/function_base.py:4552\u001b[0m, in \u001b[0;36m_quantile_ureduce_func\u001b[0;34m(a, q, axis, out, overwrite_input, method)\u001b[0m\n\u001b[1;32m   4550\u001b[0m     \u001b[38;5;28;01melse\u001b[39;00m:\n\u001b[1;32m   4551\u001b[0m         arr \u001b[38;5;241m=\u001b[39m a\u001b[38;5;241m.\u001b[39mcopy()\n\u001b[0;32m-> 4552\u001b[0m result \u001b[38;5;241m=\u001b[39m \u001b[43m_quantile\u001b[49m\u001b[43m(\u001b[49m\u001b[43marr\u001b[49m\u001b[43m,\u001b[49m\n\u001b[1;32m   4553\u001b[0m \u001b[43m                   \u001b[49m\u001b[43mquantiles\u001b[49m\u001b[38;5;241;43m=\u001b[39;49m\u001b[43mq\u001b[49m\u001b[43m,\u001b[49m\n\u001b[1;32m   4554\u001b[0m \u001b[43m                   \u001b[49m\u001b[43maxis\u001b[49m\u001b[38;5;241;43m=\u001b[39;49m\u001b[43maxis\u001b[49m\u001b[43m,\u001b[49m\n\u001b[1;32m   4555\u001b[0m \u001b[43m                   \u001b[49m\u001b[43mmethod\u001b[49m\u001b[38;5;241;43m=\u001b[39;49m\u001b[43mmethod\u001b[49m\u001b[43m,\u001b[49m\n\u001b[1;32m   4556\u001b[0m \u001b[43m                   \u001b[49m\u001b[43mout\u001b[49m\u001b[38;5;241;43m=\u001b[39;49m\u001b[43mout\u001b[49m\u001b[43m)\u001b[49m\n\u001b[1;32m   4557\u001b[0m \u001b[38;5;28;01mreturn\u001b[39;00m result\n",
      "File \u001b[0;32m~/.local/lib/python3.8/site-packages/numpy/lib/function_base.py:4658\u001b[0m, in \u001b[0;36m_quantile\u001b[0;34m(arr, quantiles, axis, method, out)\u001b[0m\n\u001b[1;32m   4650\u001b[0m arr\u001b[38;5;241m.\u001b[39mpartition(\n\u001b[1;32m   4651\u001b[0m     np\u001b[38;5;241m.\u001b[39munique(np\u001b[38;5;241m.\u001b[39mconcatenate(([\u001b[38;5;241m0\u001b[39m, \u001b[38;5;241m-\u001b[39m\u001b[38;5;241m1\u001b[39m],\n\u001b[1;32m   4652\u001b[0m                               previous_indexes\u001b[38;5;241m.\u001b[39mravel(),\n\u001b[1;32m   4653\u001b[0m                               next_indexes\u001b[38;5;241m.\u001b[39mravel(),\n\u001b[1;32m   4654\u001b[0m                               ))),\n\u001b[1;32m   4655\u001b[0m     axis\u001b[38;5;241m=\u001b[39mDATA_AXIS)\n\u001b[1;32m   4656\u001b[0m \u001b[38;5;28;01mif\u001b[39;00m np\u001b[38;5;241m.\u001b[39missubdtype(arr\u001b[38;5;241m.\u001b[39mdtype, np\u001b[38;5;241m.\u001b[39minexact):\n\u001b[1;32m   4657\u001b[0m     slices_having_nans \u001b[38;5;241m=\u001b[39m np\u001b[38;5;241m.\u001b[39misnan(\n\u001b[0;32m-> 4658\u001b[0m         \u001b[43mtake\u001b[49m\u001b[43m(\u001b[49m\u001b[43marr\u001b[49m\u001b[43m,\u001b[49m\u001b[43m \u001b[49m\u001b[43mindices\u001b[49m\u001b[38;5;241;43m=\u001b[39;49m\u001b[38;5;241;43m-\u001b[39;49m\u001b[38;5;241;43m1\u001b[39;49m\u001b[43m,\u001b[49m\u001b[43m \u001b[49m\u001b[43maxis\u001b[49m\u001b[38;5;241;43m=\u001b[39;49m\u001b[43mDATA_AXIS\u001b[49m\u001b[43m)\u001b[49m\n\u001b[1;32m   4659\u001b[0m     )\n\u001b[1;32m   4660\u001b[0m \u001b[38;5;28;01melse\u001b[39;00m:\n\u001b[1;32m   4661\u001b[0m     slices_having_nans \u001b[38;5;241m=\u001b[39m \u001b[38;5;28;01mNone\u001b[39;00m\n",
      "File \u001b[0;32m<__array_function__ internals>:180\u001b[0m, in \u001b[0;36mtake\u001b[0;34m(*args, **kwargs)\u001b[0m\n",
      "File \u001b[0;32m~/.local/lib/python3.8/site-packages/numpy/core/fromnumeric.py:190\u001b[0m, in \u001b[0;36mtake\u001b[0;34m(a, indices, axis, out, mode)\u001b[0m\n\u001b[1;32m     93\u001b[0m \u001b[38;5;129m@array_function_dispatch\u001b[39m(_take_dispatcher)\n\u001b[1;32m     94\u001b[0m \u001b[38;5;28;01mdef\u001b[39;00m \u001b[38;5;21mtake\u001b[39m(a, indices, axis\u001b[38;5;241m=\u001b[39m\u001b[38;5;28;01mNone\u001b[39;00m, out\u001b[38;5;241m=\u001b[39m\u001b[38;5;28;01mNone\u001b[39;00m, mode\u001b[38;5;241m=\u001b[39m\u001b[38;5;124m'\u001b[39m\u001b[38;5;124mraise\u001b[39m\u001b[38;5;124m'\u001b[39m):\n\u001b[1;32m     95\u001b[0m     \u001b[38;5;124;03m\"\"\"\u001b[39;00m\n\u001b[1;32m     96\u001b[0m \u001b[38;5;124;03m    Take elements from an array along an axis.\u001b[39;00m\n\u001b[1;32m     97\u001b[0m \n\u001b[0;32m   (...)\u001b[0m\n\u001b[1;32m    188\u001b[0m \u001b[38;5;124;03m           [5, 7]])\u001b[39;00m\n\u001b[1;32m    189\u001b[0m \u001b[38;5;124;03m    \"\"\"\u001b[39;00m\n\u001b[0;32m--> 190\u001b[0m     \u001b[38;5;28;01mreturn\u001b[39;00m \u001b[43m_wrapfunc\u001b[49m\u001b[43m(\u001b[49m\u001b[43ma\u001b[49m\u001b[43m,\u001b[49m\u001b[43m \u001b[49m\u001b[38;5;124;43m'\u001b[39;49m\u001b[38;5;124;43mtake\u001b[39;49m\u001b[38;5;124;43m'\u001b[39;49m\u001b[43m,\u001b[49m\u001b[43m \u001b[49m\u001b[43mindices\u001b[49m\u001b[43m,\u001b[49m\u001b[43m \u001b[49m\u001b[43maxis\u001b[49m\u001b[38;5;241;43m=\u001b[39;49m\u001b[43maxis\u001b[49m\u001b[43m,\u001b[49m\u001b[43m \u001b[49m\u001b[43mout\u001b[49m\u001b[38;5;241;43m=\u001b[39;49m\u001b[43mout\u001b[49m\u001b[43m,\u001b[49m\u001b[43m \u001b[49m\u001b[43mmode\u001b[49m\u001b[38;5;241;43m=\u001b[39;49m\u001b[43mmode\u001b[49m\u001b[43m)\u001b[49m\n",
      "File \u001b[0;32m~/.local/lib/python3.8/site-packages/numpy/core/fromnumeric.py:57\u001b[0m, in \u001b[0;36m_wrapfunc\u001b[0;34m(obj, method, *args, **kwds)\u001b[0m\n\u001b[1;32m     54\u001b[0m     \u001b[38;5;28;01mreturn\u001b[39;00m _wrapit(obj, method, \u001b[38;5;241m*\u001b[39margs, \u001b[38;5;241m*\u001b[39m\u001b[38;5;241m*\u001b[39mkwds)\n\u001b[1;32m     56\u001b[0m \u001b[38;5;28;01mtry\u001b[39;00m:\n\u001b[0;32m---> 57\u001b[0m     \u001b[38;5;28;01mreturn\u001b[39;00m \u001b[43mbound\u001b[49m\u001b[43m(\u001b[49m\u001b[38;5;241;43m*\u001b[39;49m\u001b[43margs\u001b[49m\u001b[43m,\u001b[49m\u001b[43m \u001b[49m\u001b[38;5;241;43m*\u001b[39;49m\u001b[38;5;241;43m*\u001b[39;49m\u001b[43mkwds\u001b[49m\u001b[43m)\u001b[49m\n\u001b[1;32m     58\u001b[0m \u001b[38;5;28;01mexcept\u001b[39;00m \u001b[38;5;167;01mTypeError\u001b[39;00m:\n\u001b[1;32m     59\u001b[0m     \u001b[38;5;66;03m# A TypeError occurs if the object does have such a method in its\u001b[39;00m\n\u001b[1;32m     60\u001b[0m     \u001b[38;5;66;03m# class, but its signature is not identical to that of NumPy's. This\u001b[39;00m\n\u001b[0;32m   (...)\u001b[0m\n\u001b[1;32m     64\u001b[0m     \u001b[38;5;66;03m# Call _wrapit from within the except clause to ensure a potential\u001b[39;00m\n\u001b[1;32m     65\u001b[0m     \u001b[38;5;66;03m# exception has a traceback chain.\u001b[39;00m\n\u001b[1;32m     66\u001b[0m     \u001b[38;5;28;01mreturn\u001b[39;00m _wrapit(obj, method, \u001b[38;5;241m*\u001b[39margs, \u001b[38;5;241m*\u001b[39m\u001b[38;5;241m*\u001b[39mkwds)\n",
      "\u001b[0;31mIndexError\u001b[0m: cannot do a non-empty take from an empty axes."
     ]
    }
   ],
   "source": [
    "Q1=np.percentile(average_TFIDF_DF, 25)\n",
    "Q3=np.percentile(average_TFIDF_DF, 75)\n",
    "IQR = Q3 - Q1\n",
    "outlier=Q3+(1.5*IQR)"
   ]
  },
  {
   "cell_type": "code",
   "execution_count": null,
   "id": "423856cf-5d80-4ebe-a523-08bc16c96812",
   "metadata": {},
   "outputs": [],
   "source": [
    "average_TFIDF_DF.sort_values(by=\"TFIDF\", ascending=False).to_csv(\"TFIDF.csv\")"
   ]
  },
  {
   "cell_type": "code",
   "execution_count": 45,
   "id": "d28b3878-49f6-48ab-a884-227221b20a5e",
   "metadata": {},
   "outputs": [],
   "source": [
    "documents = [TaggedDocument(doc, [i]) for i, doc in enumerate(final_processed_text)]"
   ]
  },
  {
   "cell_type": "code",
   "execution_count": 46,
   "id": "2bfaad4b-18fe-46d3-b3e1-067a65a35852",
   "metadata": {},
   "outputs": [
    {
     "name": "stdout",
     "output_type": "stream",
     "text": [
      "Total Cores: 8\n"
     ]
    },
    {
     "ename": "RuntimeError",
     "evalue": "you must first build vocabulary before training the model",
     "output_type": "error",
     "traceback": [
      "\u001b[0;31m---------------------------------------------------------------------------\u001b[0m",
      "\u001b[0;31mRuntimeError\u001b[0m                              Traceback (most recent call last)",
      "Input \u001b[0;32mIn [46]\u001b[0m, in \u001b[0;36m<cell line: 3>\u001b[0;34m()\u001b[0m\n\u001b[1;32m      1\u001b[0m cores \u001b[38;5;241m=\u001b[39m multiprocessing\u001b[38;5;241m.\u001b[39mcpu_count()\n\u001b[1;32m      2\u001b[0m \u001b[38;5;28mprint\u001b[39m (\u001b[38;5;124mf\u001b[39m\u001b[38;5;124m'\u001b[39m\u001b[38;5;124mTotal Cores: \u001b[39m\u001b[38;5;132;01m{\u001b[39;00mcores\u001b[38;5;132;01m}\u001b[39;00m\u001b[38;5;124m'\u001b[39m)\n\u001b[0;32m----> 3\u001b[0m model \u001b[38;5;241m=\u001b[39m \u001b[43mDoc2Vec\u001b[49m\u001b[43m(\u001b[49m\u001b[43mdocuments\u001b[49m\u001b[43m,\u001b[49m\u001b[43m \u001b[49m\n\u001b[1;32m      4\u001b[0m \u001b[43m                \u001b[49m\u001b[43mvector_size\u001b[49m\u001b[43m \u001b[49m\u001b[38;5;241;43m=\u001b[39;49m\u001b[43m \u001b[49m\u001b[38;5;241;43m100\u001b[39;49m\u001b[43m,\u001b[49m\u001b[43m \u001b[49m\n\u001b[1;32m      5\u001b[0m \u001b[43m                \u001b[49m\u001b[43mwindow\u001b[49m\u001b[43m \u001b[49m\u001b[38;5;241;43m=\u001b[39;49m\u001b[43m \u001b[49m\u001b[38;5;241;43m2\u001b[39;49m\u001b[43m,\u001b[49m\u001b[43m \u001b[49m\n\u001b[1;32m      6\u001b[0m \u001b[43m                \u001b[49m\u001b[43mmin_count\u001b[49m\u001b[43m \u001b[49m\u001b[38;5;241;43m=\u001b[39;49m\u001b[43m \u001b[49m\u001b[38;5;241;43m2\u001b[39;49m\u001b[43m,\u001b[49m\u001b[43m \u001b[49m\n\u001b[1;32m      7\u001b[0m \u001b[43m                \u001b[49m\u001b[43mworkers\u001b[49m\u001b[43m \u001b[49m\u001b[38;5;241;43m=\u001b[39;49m\u001b[43m \u001b[49m\u001b[43mcores\u001b[49m\u001b[43m)\u001b[49m\n",
      "File \u001b[0;32m~/.local/lib/python3.8/site-packages/gensim/models/doc2vec.py:294\u001b[0m, in \u001b[0;36mDoc2Vec.__init__\u001b[0;34m(self, documents, corpus_file, vector_size, dm_mean, dm, dbow_words, dm_concat, dm_tag_count, dv, dv_mapfile, comment, trim_rule, callbacks, window, epochs, shrink_windows, **kwargs)\u001b[0m\n\u001b[1;32m    290\u001b[0m \u001b[38;5;66;03m# EXPERIMENTAL lockf feature; create minimal no-op lockf arrays (1 element of 1.0)\u001b[39;00m\n\u001b[1;32m    291\u001b[0m \u001b[38;5;66;03m# advanced users should directly resize/adjust as desired after any vocab growth\u001b[39;00m\n\u001b[1;32m    292\u001b[0m \u001b[38;5;28mself\u001b[39m\u001b[38;5;241m.\u001b[39mdv\u001b[38;5;241m.\u001b[39mvectors_lockf \u001b[38;5;241m=\u001b[39m np\u001b[38;5;241m.\u001b[39mones(\u001b[38;5;241m1\u001b[39m, dtype\u001b[38;5;241m=\u001b[39mREAL)  \u001b[38;5;66;03m# 0.0 values suppress word-backprop-updates; 1.0 allows\u001b[39;00m\n\u001b[0;32m--> 294\u001b[0m \u001b[38;5;28;43msuper\u001b[39;49m\u001b[43m(\u001b[49m\u001b[43mDoc2Vec\u001b[49m\u001b[43m,\u001b[49m\u001b[43m \u001b[49m\u001b[38;5;28;43mself\u001b[39;49m\u001b[43m)\u001b[49m\u001b[38;5;241;43m.\u001b[39;49m\u001b[38;5;21;43m__init__\u001b[39;49m\u001b[43m(\u001b[49m\n\u001b[1;32m    295\u001b[0m \u001b[43m    \u001b[49m\u001b[43msentences\u001b[49m\u001b[38;5;241;43m=\u001b[39;49m\u001b[43mcorpus_iterable\u001b[49m\u001b[43m,\u001b[49m\n\u001b[1;32m    296\u001b[0m \u001b[43m    \u001b[49m\u001b[43mcorpus_file\u001b[49m\u001b[38;5;241;43m=\u001b[39;49m\u001b[43mcorpus_file\u001b[49m\u001b[43m,\u001b[49m\n\u001b[1;32m    297\u001b[0m \u001b[43m    \u001b[49m\u001b[43mvector_size\u001b[49m\u001b[38;5;241;43m=\u001b[39;49m\u001b[38;5;28;43mself\u001b[39;49m\u001b[38;5;241;43m.\u001b[39;49m\u001b[43mvector_size\u001b[49m\u001b[43m,\u001b[49m\n\u001b[1;32m    298\u001b[0m \u001b[43m    \u001b[49m\u001b[43msg\u001b[49m\u001b[38;5;241;43m=\u001b[39;49m\u001b[43m(\u001b[49m\u001b[38;5;241;43m1\u001b[39;49m\u001b[43m \u001b[49m\u001b[38;5;241;43m+\u001b[39;49m\u001b[43m \u001b[49m\u001b[43mdm\u001b[49m\u001b[43m)\u001b[49m\u001b[43m \u001b[49m\u001b[38;5;241;43m%\u001b[39;49m\u001b[43m \u001b[49m\u001b[38;5;241;43m2\u001b[39;49m\u001b[43m,\u001b[49m\n\u001b[1;32m    299\u001b[0m \u001b[43m    \u001b[49m\u001b[43mnull_word\u001b[49m\u001b[38;5;241;43m=\u001b[39;49m\u001b[38;5;28;43mself\u001b[39;49m\u001b[38;5;241;43m.\u001b[39;49m\u001b[43mdm_concat\u001b[49m\u001b[43m,\u001b[49m\n\u001b[1;32m    300\u001b[0m \u001b[43m    \u001b[49m\u001b[43mcallbacks\u001b[49m\u001b[38;5;241;43m=\u001b[39;49m\u001b[43mcallbacks\u001b[49m\u001b[43m,\u001b[49m\n\u001b[1;32m    301\u001b[0m \u001b[43m    \u001b[49m\u001b[43mwindow\u001b[49m\u001b[38;5;241;43m=\u001b[39;49m\u001b[43mwindow\u001b[49m\u001b[43m,\u001b[49m\n\u001b[1;32m    302\u001b[0m \u001b[43m    \u001b[49m\u001b[43mepochs\u001b[49m\u001b[38;5;241;43m=\u001b[39;49m\u001b[43mepochs\u001b[49m\u001b[43m,\u001b[49m\n\u001b[1;32m    303\u001b[0m \u001b[43m    \u001b[49m\u001b[43mshrink_windows\u001b[49m\u001b[38;5;241;43m=\u001b[39;49m\u001b[43mshrink_windows\u001b[49m\u001b[43m,\u001b[49m\n\u001b[1;32m    304\u001b[0m \u001b[43m    \u001b[49m\u001b[38;5;241;43m*\u001b[39;49m\u001b[38;5;241;43m*\u001b[39;49m\u001b[43mkwargs\u001b[49m\u001b[43m,\u001b[49m\n\u001b[1;32m    305\u001b[0m \u001b[43m\u001b[49m\u001b[43m)\u001b[49m\n",
      "File \u001b[0;32m~/.local/lib/python3.8/site-packages/gensim/models/word2vec.py:426\u001b[0m, in \u001b[0;36mWord2Vec.__init__\u001b[0;34m(self, sentences, corpus_file, vector_size, alpha, window, min_count, max_vocab_size, sample, seed, workers, min_alpha, sg, hs, negative, ns_exponent, cbow_mean, hashfxn, epochs, null_word, trim_rule, sorted_vocab, batch_words, compute_loss, callbacks, comment, max_final_vocab, shrink_windows)\u001b[0m\n\u001b[1;32m    424\u001b[0m     \u001b[38;5;28mself\u001b[39m\u001b[38;5;241m.\u001b[39m_check_corpus_sanity(corpus_iterable\u001b[38;5;241m=\u001b[39mcorpus_iterable, corpus_file\u001b[38;5;241m=\u001b[39mcorpus_file, passes\u001b[38;5;241m=\u001b[39m(epochs \u001b[38;5;241m+\u001b[39m \u001b[38;5;241m1\u001b[39m))\n\u001b[1;32m    425\u001b[0m     \u001b[38;5;28mself\u001b[39m\u001b[38;5;241m.\u001b[39mbuild_vocab(corpus_iterable\u001b[38;5;241m=\u001b[39mcorpus_iterable, corpus_file\u001b[38;5;241m=\u001b[39mcorpus_file, trim_rule\u001b[38;5;241m=\u001b[39mtrim_rule)\n\u001b[0;32m--> 426\u001b[0m     \u001b[38;5;28;43mself\u001b[39;49m\u001b[38;5;241;43m.\u001b[39;49m\u001b[43mtrain\u001b[49m\u001b[43m(\u001b[49m\n\u001b[1;32m    427\u001b[0m \u001b[43m        \u001b[49m\u001b[43mcorpus_iterable\u001b[49m\u001b[38;5;241;43m=\u001b[39;49m\u001b[43mcorpus_iterable\u001b[49m\u001b[43m,\u001b[49m\u001b[43m \u001b[49m\u001b[43mcorpus_file\u001b[49m\u001b[38;5;241;43m=\u001b[39;49m\u001b[43mcorpus_file\u001b[49m\u001b[43m,\u001b[49m\u001b[43m \u001b[49m\u001b[43mtotal_examples\u001b[49m\u001b[38;5;241;43m=\u001b[39;49m\u001b[38;5;28;43mself\u001b[39;49m\u001b[38;5;241;43m.\u001b[39;49m\u001b[43mcorpus_count\u001b[49m\u001b[43m,\u001b[49m\n\u001b[1;32m    428\u001b[0m \u001b[43m        \u001b[49m\u001b[43mtotal_words\u001b[49m\u001b[38;5;241;43m=\u001b[39;49m\u001b[38;5;28;43mself\u001b[39;49m\u001b[38;5;241;43m.\u001b[39;49m\u001b[43mcorpus_total_words\u001b[49m\u001b[43m,\u001b[49m\u001b[43m \u001b[49m\u001b[43mepochs\u001b[49m\u001b[38;5;241;43m=\u001b[39;49m\u001b[38;5;28;43mself\u001b[39;49m\u001b[38;5;241;43m.\u001b[39;49m\u001b[43mepochs\u001b[49m\u001b[43m,\u001b[49m\u001b[43m \u001b[49m\u001b[43mstart_alpha\u001b[49m\u001b[38;5;241;43m=\u001b[39;49m\u001b[38;5;28;43mself\u001b[39;49m\u001b[38;5;241;43m.\u001b[39;49m\u001b[43malpha\u001b[49m\u001b[43m,\u001b[49m\n\u001b[1;32m    429\u001b[0m \u001b[43m        \u001b[49m\u001b[43mend_alpha\u001b[49m\u001b[38;5;241;43m=\u001b[39;49m\u001b[38;5;28;43mself\u001b[39;49m\u001b[38;5;241;43m.\u001b[39;49m\u001b[43mmin_alpha\u001b[49m\u001b[43m,\u001b[49m\u001b[43m \u001b[49m\u001b[43mcompute_loss\u001b[49m\u001b[38;5;241;43m=\u001b[39;49m\u001b[38;5;28;43mself\u001b[39;49m\u001b[38;5;241;43m.\u001b[39;49m\u001b[43mcompute_loss\u001b[49m\u001b[43m,\u001b[49m\u001b[43m \u001b[49m\u001b[43mcallbacks\u001b[49m\u001b[38;5;241;43m=\u001b[39;49m\u001b[43mcallbacks\u001b[49m\u001b[43m)\u001b[49m\n\u001b[1;32m    430\u001b[0m \u001b[38;5;28;01melse\u001b[39;00m:\n\u001b[1;32m    431\u001b[0m     \u001b[38;5;28;01mif\u001b[39;00m trim_rule \u001b[38;5;129;01mis\u001b[39;00m \u001b[38;5;129;01mnot\u001b[39;00m \u001b[38;5;28;01mNone\u001b[39;00m:\n",
      "File \u001b[0;32m~/.local/lib/python3.8/site-packages/gensim/models/doc2vec.py:514\u001b[0m, in \u001b[0;36mDoc2Vec.train\u001b[0;34m(self, corpus_iterable, corpus_file, total_examples, total_words, epochs, start_alpha, end_alpha, word_count, queue_factor, report_delay, callbacks, **kwargs)\u001b[0m\n\u001b[1;32m    511\u001b[0m     kwargs[\u001b[38;5;124m'\u001b[39m\u001b[38;5;124moffsets\u001b[39m\u001b[38;5;124m'\u001b[39m] \u001b[38;5;241m=\u001b[39m offsets\n\u001b[1;32m    512\u001b[0m     kwargs[\u001b[38;5;124m'\u001b[39m\u001b[38;5;124mstart_doctags\u001b[39m\u001b[38;5;124m'\u001b[39m] \u001b[38;5;241m=\u001b[39m start_doctags\n\u001b[0;32m--> 514\u001b[0m \u001b[38;5;28;43msuper\u001b[39;49m\u001b[43m(\u001b[49m\u001b[43mDoc2Vec\u001b[49m\u001b[43m,\u001b[49m\u001b[43m \u001b[49m\u001b[38;5;28;43mself\u001b[39;49m\u001b[43m)\u001b[49m\u001b[38;5;241;43m.\u001b[39;49m\u001b[43mtrain\u001b[49m\u001b[43m(\u001b[49m\n\u001b[1;32m    515\u001b[0m \u001b[43m    \u001b[49m\u001b[43mcorpus_iterable\u001b[49m\u001b[38;5;241;43m=\u001b[39;49m\u001b[43mcorpus_iterable\u001b[49m\u001b[43m,\u001b[49m\u001b[43m \u001b[49m\u001b[43mcorpus_file\u001b[49m\u001b[38;5;241;43m=\u001b[39;49m\u001b[43mcorpus_file\u001b[49m\u001b[43m,\u001b[49m\n\u001b[1;32m    516\u001b[0m \u001b[43m    \u001b[49m\u001b[43mtotal_examples\u001b[49m\u001b[38;5;241;43m=\u001b[39;49m\u001b[43mtotal_examples\u001b[49m\u001b[43m,\u001b[49m\u001b[43m \u001b[49m\u001b[43mtotal_words\u001b[49m\u001b[38;5;241;43m=\u001b[39;49m\u001b[43mtotal_words\u001b[49m\u001b[43m,\u001b[49m\n\u001b[1;32m    517\u001b[0m \u001b[43m    \u001b[49m\u001b[43mepochs\u001b[49m\u001b[38;5;241;43m=\u001b[39;49m\u001b[43mepochs\u001b[49m\u001b[43m,\u001b[49m\u001b[43m \u001b[49m\u001b[43mstart_alpha\u001b[49m\u001b[38;5;241;43m=\u001b[39;49m\u001b[43mstart_alpha\u001b[49m\u001b[43m,\u001b[49m\u001b[43m \u001b[49m\u001b[43mend_alpha\u001b[49m\u001b[38;5;241;43m=\u001b[39;49m\u001b[43mend_alpha\u001b[49m\u001b[43m,\u001b[49m\u001b[43m \u001b[49m\u001b[43mword_count\u001b[49m\u001b[38;5;241;43m=\u001b[39;49m\u001b[43mword_count\u001b[49m\u001b[43m,\u001b[49m\n\u001b[1;32m    518\u001b[0m \u001b[43m    \u001b[49m\u001b[43mqueue_factor\u001b[49m\u001b[38;5;241;43m=\u001b[39;49m\u001b[43mqueue_factor\u001b[49m\u001b[43m,\u001b[49m\u001b[43m \u001b[49m\u001b[43mreport_delay\u001b[49m\u001b[38;5;241;43m=\u001b[39;49m\u001b[43mreport_delay\u001b[49m\u001b[43m,\u001b[49m\u001b[43m \u001b[49m\u001b[43mcallbacks\u001b[49m\u001b[38;5;241;43m=\u001b[39;49m\u001b[43mcallbacks\u001b[49m\u001b[43m,\u001b[49m\u001b[43m \u001b[49m\u001b[38;5;241;43m*\u001b[39;49m\u001b[38;5;241;43m*\u001b[39;49m\u001b[43mkwargs\u001b[49m\u001b[43m)\u001b[49m\n",
      "File \u001b[0;32m~/.local/lib/python3.8/site-packages/gensim/models/word2vec.py:1041\u001b[0m, in \u001b[0;36mWord2Vec.train\u001b[0;34m(self, corpus_iterable, corpus_file, total_examples, total_words, epochs, start_alpha, end_alpha, word_count, queue_factor, report_delay, compute_loss, callbacks, **kwargs)\u001b[0m\n\u001b[1;32m   1038\u001b[0m \u001b[38;5;28mself\u001b[39m\u001b[38;5;241m.\u001b[39mmin_alpha \u001b[38;5;241m=\u001b[39m end_alpha \u001b[38;5;129;01mor\u001b[39;00m \u001b[38;5;28mself\u001b[39m\u001b[38;5;241m.\u001b[39mmin_alpha\n\u001b[1;32m   1039\u001b[0m \u001b[38;5;28mself\u001b[39m\u001b[38;5;241m.\u001b[39mepochs \u001b[38;5;241m=\u001b[39m epochs\n\u001b[0;32m-> 1041\u001b[0m \u001b[38;5;28;43mself\u001b[39;49m\u001b[38;5;241;43m.\u001b[39;49m\u001b[43m_check_training_sanity\u001b[49m\u001b[43m(\u001b[49m\u001b[43mepochs\u001b[49m\u001b[38;5;241;43m=\u001b[39;49m\u001b[43mepochs\u001b[49m\u001b[43m,\u001b[49m\u001b[43m \u001b[49m\u001b[43mtotal_examples\u001b[49m\u001b[38;5;241;43m=\u001b[39;49m\u001b[43mtotal_examples\u001b[49m\u001b[43m,\u001b[49m\u001b[43m \u001b[49m\u001b[43mtotal_words\u001b[49m\u001b[38;5;241;43m=\u001b[39;49m\u001b[43mtotal_words\u001b[49m\u001b[43m)\u001b[49m\n\u001b[1;32m   1042\u001b[0m \u001b[38;5;28mself\u001b[39m\u001b[38;5;241m.\u001b[39m_check_corpus_sanity(corpus_iterable\u001b[38;5;241m=\u001b[39mcorpus_iterable, corpus_file\u001b[38;5;241m=\u001b[39mcorpus_file, passes\u001b[38;5;241m=\u001b[39mepochs)\n\u001b[1;32m   1044\u001b[0m \u001b[38;5;28mself\u001b[39m\u001b[38;5;241m.\u001b[39madd_lifecycle_event(\n\u001b[1;32m   1045\u001b[0m     \u001b[38;5;124m\"\u001b[39m\u001b[38;5;124mtrain\u001b[39m\u001b[38;5;124m\"\u001b[39m,\n\u001b[1;32m   1046\u001b[0m     msg\u001b[38;5;241m=\u001b[39m(\n\u001b[0;32m   (...)\u001b[0m\n\u001b[1;32m   1050\u001b[0m     ),\n\u001b[1;32m   1051\u001b[0m )\n",
      "File \u001b[0;32m~/.local/lib/python3.8/site-packages/gensim/models/word2vec.py:1531\u001b[0m, in \u001b[0;36mWord2Vec._check_training_sanity\u001b[0;34m(self, epochs, total_examples, total_words, **kwargs)\u001b[0m\n\u001b[1;32m   1528\u001b[0m     logger\u001b[38;5;241m.\u001b[39mwarning(\u001b[38;5;124m\"\u001b[39m\u001b[38;5;124mEffective \u001b[39m\u001b[38;5;124m'\u001b[39m\u001b[38;5;124malpha\u001b[39m\u001b[38;5;124m'\u001b[39m\u001b[38;5;124m higher than previous training cycles\u001b[39m\u001b[38;5;124m\"\u001b[39m)\n\u001b[1;32m   1530\u001b[0m \u001b[38;5;28;01mif\u001b[39;00m \u001b[38;5;129;01mnot\u001b[39;00m \u001b[38;5;28mself\u001b[39m\u001b[38;5;241m.\u001b[39mwv\u001b[38;5;241m.\u001b[39mkey_to_index:  \u001b[38;5;66;03m# should be set by `build_vocab`\u001b[39;00m\n\u001b[0;32m-> 1531\u001b[0m     \u001b[38;5;28;01mraise\u001b[39;00m \u001b[38;5;167;01mRuntimeError\u001b[39;00m(\u001b[38;5;124m\"\u001b[39m\u001b[38;5;124myou must first build vocabulary before training the model\u001b[39m\u001b[38;5;124m\"\u001b[39m)\n\u001b[1;32m   1532\u001b[0m \u001b[38;5;28;01mif\u001b[39;00m \u001b[38;5;129;01mnot\u001b[39;00m \u001b[38;5;28mlen\u001b[39m(\u001b[38;5;28mself\u001b[39m\u001b[38;5;241m.\u001b[39mwv\u001b[38;5;241m.\u001b[39mvectors):\n\u001b[1;32m   1533\u001b[0m     \u001b[38;5;28;01mraise\u001b[39;00m \u001b[38;5;167;01mRuntimeError\u001b[39;00m(\u001b[38;5;124m\"\u001b[39m\u001b[38;5;124myou must initialize vectors before training the model\u001b[39m\u001b[38;5;124m\"\u001b[39m)\n",
      "\u001b[0;31mRuntimeError\u001b[0m: you must first build vocabulary before training the model"
     ]
    }
   ],
   "source": [
    "cores = multiprocessing.cpu_count()\n",
    "print (f'Total Cores: {cores}')\n",
    "model = Doc2Vec(documents, \n",
    "                vector_size = 100, \n",
    "                window = 2, \n",
    "                min_count = 2, \n",
    "                workers = cores)"
   ]
  },
  {
   "cell_type": "code",
   "execution_count": 47,
   "id": "b246b553-c335-4f94-8c18-f23d0db8a1d7",
   "metadata": {},
   "outputs": [],
   "source": [
    "doc2vec_df=pd.DataFrame()\n",
    "for i in range(0,len(processed_text)):\n",
    "    vector=pd.DataFrame(model.infer_vector(processed_text[i])).transpose()\n",
    "    doc2vec_df=pd.concat([doc2vec_df,vector], axis=0)\n",
    "\n",
    "doc2vec_df=doc2vec_df.reset_index()\n",
    "\n",
    "doc_titles={'title': titles}\n",
    "t=pd.DataFrame(doc_titles)\n",
    "\n",
    "doc2vec_df=pd.concat([doc2vec_df,t], axis=1)\n",
    "\n",
    "doc2vec_df=doc2vec_df.drop('index', axis=1)"
   ]
  },
  {
   "cell_type": "code",
   "execution_count": 327,
   "id": "39ad5f93-43b4-4aef-9450-d82edee85fc4",
   "metadata": {},
   "outputs": [],
   "source": [
    "model_w2v = Word2Vec(processed_text, \n",
    "                     vector_size = 100, \n",
    "                     window = 5, \n",
    "                     min_count = 1, \n",
    "                     workers = cores)"
   ]
  },
  {
   "cell_type": "code",
   "execution_count": 334,
   "id": "de089734-d324-42f8-9183-b313c4ef7b85",
   "metadata": {},
   "outputs": [],
   "source": [
    "\n",
    "#join all processed DSI words into single list\n",
    "processed_text_w2v=[]\n",
    "for i in processed_text:\n",
    "    for k in i:\n",
    "        processed_text_w2v.append(k)\n",
    "\n",
    "#obtian all the unique words from DSI\n",
    "w2v_words=list(set(processed_text_w2v))\n",
    "\n",
    "#can also use the get_feature_names() from TFIDF to get the list of words\n",
    "#w2v_words=Tfidf.get_feature_names()\n",
    "\n",
    "#empty dictionary to store words with vectors\n",
    "w2v_vectors={}\n",
    "\n",
    "#for loop to obtain weights for each word\n",
    "for i in w2v_words:\n",
    "    temp_vec=model_w2v.wv[i]\n",
    "    w2v_vectors[i]=temp_vec\n",
    "\n",
    "#create a final dataframe to view word vectors\n",
    "w2v_df=pd.DataFrame(w2v_vectors).transpose()\n",
    "\n",
    "\n",
    "#the following section runs applies the k-means algorithm on the TFIDF matrix."
   ]
  },
  {
   "cell_type": "raw",
   "id": "34e4d604-8e20-49e9-90d6-3c0565c0c01c",
   "metadata": {
    "tags": []
   },
   "source": [
    "matrix = TFIDF_matrix\n",
    "\n",
    "model = KMeans()\n",
    "visualizer = KElbowVisualizer(model, \n",
    "                              k = (2, 9), \n",
    "                              metric = 'silhouette', \n",
    "                              timings = True\n",
    "    )\n",
    "\n",
    "visualizer.fit(matrix)\n",
    "visualizer.show()"
   ]
  },
  {
   "cell_type": "raw",
   "id": "2cc0c770-452d-418a-8266-27eb6fad8c1e",
   "metadata": {
    "tags": []
   },
   "source": [
    "clusterer"
   ]
  },
  {
   "cell_type": "markdown",
   "id": "bc75bc70-6687-4977-8c95-aff055b5bdd8",
   "metadata": {},
   "source": [
    "## Kmeans"
   ]
  },
  {
   "cell_type": "code",
   "execution_count": 432,
   "id": "c4ace110-e214-457c-ac9a-8ca45f382ff2",
   "metadata": {},
   "outputs": [],
   "source": [
    "k = 13\n",
    "model1 = KMeans(n_clusters=k, random_state =89)\n",
    "model1.fit(TFIDF_matrix)\n",
    "clusters = model1.labels_.tolist()\n",
    "\n",
    "\n",
    "terms = Tfidf.get_feature_names_out()\n",
    "Dictionary = {'Doc Name':titles, 'Cluster':clusters,  'Text': final_processed_text}\n",
    "frame = pd.DataFrame(Dictionary, columns=['Cluster', 'Doc Name','Text'])"
   ]
  },
  {
   "cell_type": "markdown",
   "id": "65458787-9dad-4b72-9dd4-a85d9f6d278e",
   "metadata": {},
   "source": [
    "## What are the centers?"
   ]
  },
  {
   "cell_type": "code",
   "execution_count": 433,
   "id": "d3270fc5-d7b6-4e93-96e0-65c595778402",
   "metadata": {},
   "outputs": [
    {
     "data": {
      "text/plain": [
       "array([[0.00038879, 0.00056071, 0.00032311, ..., 0.0028577 , 0.00041337,\n",
       "        0.        ],\n",
       "       [0.        , 0.        , 0.00157114, ..., 0.        , 0.0013912 ,\n",
       "        0.        ],\n",
       "       [0.        , 0.        , 0.00387366, ..., 0.        , 0.00183644,\n",
       "        0.        ],\n",
       "       ...,\n",
       "       [0.        , 0.02129951, 0.        , ..., 0.        , 0.        ,\n",
       "        0.        ],\n",
       "       [0.01249953, 0.        , 0.00516348, ..., 0.        , 0.        ,\n",
       "        0.0037324 ],\n",
       "       [0.        , 0.        , 0.        , ..., 0.        , 0.        ,\n",
       "        0.        ]], dtype=float32)"
      ]
     },
     "execution_count": 433,
     "metadata": {},
     "output_type": "execute_result"
    }
   ],
   "source": [
    "centroids = model1.cluster_centers_\n",
    "centroids"
   ]
  },
  {
   "cell_type": "code",
   "execution_count": 434,
   "id": "224abe43-df24-4627-9663-dc7fcda6fea5",
   "metadata": {},
   "outputs": [
    {
     "data": {
      "text/plain": [
       "array([[0.00038879, 0.00056071, 0.00032311, ..., 0.0028577 , 0.00041337,\n",
       "        0.        ],\n",
       "       [0.        , 0.        , 0.00157114, ..., 0.        , 0.0013912 ,\n",
       "        0.        ],\n",
       "       [0.        , 0.        , 0.00387366, ..., 0.        , 0.00183644,\n",
       "        0.        ],\n",
       "       ...,\n",
       "       [0.        , 0.02129951, 0.        , ..., 0.        , 0.        ,\n",
       "        0.        ],\n",
       "       [0.01249953, 0.        , 0.00516348, ..., 0.        , 0.        ,\n",
       "        0.0037324 ],\n",
       "       [0.        , 0.        , 0.        , ..., 0.        , 0.        ,\n",
       "        0.        ]], dtype=float32)"
      ]
     },
     "execution_count": 434,
     "metadata": {},
     "output_type": "execute_result"
    }
   ],
   "source": [
    "model2 = KMeans(n_clusters = k,\n",
    "                init = centroids,\n",
    "               n_init = 1)\n",
    "model2.fit(TFIDF_matrix)\n",
    "centroids_2 = model2.cluster_centers_\n",
    "centroids_2"
   ]
  },
  {
   "cell_type": "markdown",
   "id": "5b4c1a8c-a131-448b-b119-0fc9aec121d6",
   "metadata": {},
   "source": [
    "## Plot"
   ]
  },
  {
   "cell_type": "code",
   "execution_count": 11,
   "id": "c4bb3d9b-4ddf-4f42-9324-9590a8f105ac",
   "metadata": {},
   "outputs": [],
   "source": [
    "pca_num_components = 2\n",
    "tsne_num_components = 2"
   ]
  },
  {
   "cell_type": "code",
   "execution_count": 12,
   "id": "f9a70d98-2612-491d-8732-6bdf1e7d8d90",
   "metadata": {},
   "outputs": [],
   "source": [
    "labels_color_map = {\n",
    "    0: '#20b2aa', 1: '#ff7373', 2: '#ffe4e1', 3: '#005073', 4: '#4d0404',\n",
    "    5: '#ccc0ba', 6: '#4700f9', 7: '#f6f900', 8: '#00f91d', 9: '#da8c49'\n",
    "}"
   ]
  },
  {
   "cell_type": "code",
   "execution_count": 13,
   "id": "d98c146e-373a-46ef-a826-f7d15911e484",
   "metadata": {},
   "outputs": [
    {
     "ename": "NameError",
     "evalue": "name 'k' is not defined",
     "output_type": "error",
     "traceback": [
      "\u001b[0;31m---------------------------------------------------------------------------\u001b[0m",
      "\u001b[0;31mNameError\u001b[0m                                 Traceback (most recent call last)",
      "Input \u001b[0;32mIn [13]\u001b[0m, in \u001b[0;36m<cell line: 1>\u001b[0;34m()\u001b[0m\n\u001b[0;32m----> 1\u001b[0m labels \u001b[38;5;241m=\u001b[39m \u001b[38;5;28mrange\u001b[39m(\u001b[43mk\u001b[49m)\n",
      "\u001b[0;31mNameError\u001b[0m: name 'k' is not defined"
     ]
    }
   ],
   "source": [
    "labels = range(k)"
   ]
  },
  {
   "cell_type": "code",
   "execution_count": 14,
   "id": "a5bf146c-01c3-4605-b6b5-2022c337a67c",
   "metadata": {},
   "outputs": [
    {
     "ename": "NameError",
     "evalue": "name 'labels' is not defined",
     "output_type": "error",
     "traceback": [
      "\u001b[0;31m---------------------------------------------------------------------------\u001b[0m",
      "\u001b[0;31mNameError\u001b[0m                                 Traceback (most recent call last)",
      "Input \u001b[0;32mIn [14]\u001b[0m, in \u001b[0;36m<cell line: 1>\u001b[0;34m()\u001b[0m\n\u001b[0;32m----> 1\u001b[0m \u001b[38;5;28mlen\u001b[39m(\u001b[43mlabels\u001b[49m)\n",
      "\u001b[0;31mNameError\u001b[0m: name 'labels' is not defined"
     ]
    }
   ],
   "source": [
    "len(labels)"
   ]
  },
  {
   "cell_type": "code",
   "execution_count": 439,
   "id": "1e1a8742-3a7e-4e82-8aa4-1399ae123ddb",
   "metadata": {},
   "outputs": [],
   "source": [
    "#labels = model2.labels_\n",
    "#X = TFIDF_matrix.todense()"
   ]
  },
  {
   "cell_type": "markdown",
   "id": "6740012f-0db5-480b-8bab-fcacce73e796",
   "metadata": {},
   "source": [
    "### Centroids"
   ]
  },
  {
   "cell_type": "code",
   "execution_count": 440,
   "id": "a0969207-9dae-48bb-b91d-8abe93b8b372",
   "metadata": {},
   "outputs": [],
   "source": [
    "pca_result = PCA(n_components=3).fit_transform(centroids)\n",
    "df = pd.DataFrame()\n",
    "df['pca-one'] = pca_result[:,0]\n",
    "df['pca-two'] = pca_result[:,1] \n",
    "df['pca-three'] = pca_result[:,2]"
   ]
  },
  {
   "cell_type": "code",
   "execution_count": 441,
   "id": "994d9895-d650-4e56-93c9-c48adba9e3c7",
   "metadata": {},
   "outputs": [
    {
     "data": {
      "text/plain": [
       "0     0.021307\n",
       "1    -0.078478\n",
       "2    -0.160289\n",
       "3    -0.333533\n",
       "4     0.019370\n",
       "5     0.336420\n",
       "6     0.230272\n",
       "7     0.019160\n",
       "8    -0.076613\n",
       "9     0.013888\n",
       "10   -0.030885\n",
       "11    0.002698\n",
       "12    0.036683\n",
       "Name: pca-one, dtype: float32"
      ]
     },
     "execution_count": 441,
     "metadata": {},
     "output_type": "execute_result"
    }
   ],
   "source": [
    "df['pca-one']"
   ]
  },
  {
   "cell_type": "markdown",
   "id": "b376c7c5-df5d-4056-b344-f0242f06eb30",
   "metadata": {},
   "source": [
    "## Visualize Centroids"
   ]
  },
  {
   "cell_type": "code",
   "execution_count": 442,
   "id": "23b4ac5d-8a02-4ece-9ce3-cce813b77a23",
   "metadata": {
    "tags": []
   },
   "outputs": [
    {
     "data": {
      "image/png": "[encoded data removed]",
      "text/plain": [
       "<Figure size 1152x720 with 1 Axes>"
      ]
     },
     "metadata": {
      "needs_background": "light"
     },
     "output_type": "display_data"
    }
   ],
   "source": [
    "ax = plt.figure(figsize=(16,10)).gca(projection='3d')\n",
    "labels = range(0,k)\n",
    "#color = list(labels_color_map)[:k]\n",
    "x = df[\"pca-one\"]\n",
    "y = df[\"pca-two\"]\n",
    "z = df[\"pca-three\"]\n",
    "\n",
    "ax.scatter(\n",
    "    xs = x, \n",
    "    ys = y,\n",
    "    zs = z,\n",
    "    #c = color,\n",
    "    s = 500\n",
    "    #cmap='tab10',\n",
    "    #hue = labels_color_map\n",
    ")\n",
    "ax.set_xlabel('pca-one')\n",
    "ax.set_ylabel('pca-two')\n",
    "ax.set_zlabel('pca-three')\n",
    "#triang = tri.Triangulation(x, y)\n",
    "#ax.triplot(tri.Triangulation(), 'bo-', lw=1)\n",
    "\n",
    "plt.show()\n"
   ]
  },
  {
   "cell_type": "code",
   "execution_count": 443,
   "id": "5a4fdb1a-5ee4-4390-941c-184b266bdc27",
   "metadata": {},
   "outputs": [],
   "source": [
    "pca_result = PCA(n_components=2).fit_transform(centroids)\n",
    "df['pca-one'] = pca_result[:,0]\n",
    "df['pca-two'] = pca_result[:,1] \n",
    "#df['pca-three'] = pca_result[:,2]"
   ]
  },
  {
   "cell_type": "code",
   "execution_count": 444,
   "id": "a6d35857-ae56-4576-ab36-db1219f34ffa",
   "metadata": {},
   "outputs": [
    {
     "data": {
      "image/png": "[encoded data removed]",
      "text/plain": [
       "<Figure size 1152x720 with 1 Axes>"
      ]
     },
     "metadata": {
      "needs_background": "light"
     },
     "output_type": "display_data"
    }
   ],
   "source": [
    "ax = plt.figure(figsize=(16,10)).gca()\n",
    "labels = range(0,k)\n",
    "color = list(labels_color_map)[:k]\n",
    "x = df[\"pca-one\"]\n",
    "y = df[\"pca-two\"]\n",
    "\n",
    "ax.scatter(\n",
    "    x = x, \n",
    "    y = y,\n",
    "    #c = color,\n",
    "    s = 500\n",
    "    #cmap='tab10',\n",
    "    #hue = labels_color_map\n",
    ")\n",
    "ax.set_xlabel('pca-one')\n",
    "ax.set_ylabel('pca-two')\n",
    "ax.triplot(tri.Triangulation(x, y), 'bo-', lw=1)\n",
    "\n",
    "plt.show()\n"
   ]
  },
  {
   "cell_type": "code",
   "execution_count": 445,
   "id": "ab4b952d-acfd-4cfa-8b41-2167647c57c6",
   "metadata": {},
   "outputs": [
    {
     "ename": "KeyError",
     "evalue": "10",
     "output_type": "error",
     "traceback": [
      "\u001b[0;31m---------------------------------------------------------------------------\u001b[0m",
      "\u001b[0;31mKeyError\u001b[0m                                  Traceback (most recent call last)",
      "Input \u001b[0;32mIn [445]\u001b[0m, in \u001b[0;36m<cell line: 5>\u001b[0;34m()\u001b[0m\n\u001b[1;32m      5\u001b[0m \u001b[38;5;28;01mfor\u001b[39;00m index, instance \u001b[38;5;129;01min\u001b[39;00m \u001b[38;5;28menumerate\u001b[39m(reduced_data):\n\u001b[1;32m      6\u001b[0m     \u001b[38;5;66;03m# print instance, index, labels[index]\u001b[39;00m\n\u001b[1;32m      7\u001b[0m     pca_comp_1, pca_comp_2 \u001b[38;5;241m=\u001b[39m reduced_data[index]\n\u001b[0;32m----> 8\u001b[0m     color \u001b[38;5;241m=\u001b[39m \u001b[43mlabels_color_map\u001b[49m\u001b[43m[\u001b[49m\u001b[43mlabels\u001b[49m\u001b[43m[\u001b[49m\u001b[43mindex\u001b[49m\u001b[43m]\u001b[49m\u001b[43m]\u001b[49m\n\u001b[1;32m      9\u001b[0m     \u001b[38;5;66;03m#sns.scatterplot(pca_comp_1, pca_comp_2)\u001b[39;00m\n\u001b[1;32m     10\u001b[0m     ax\u001b[38;5;241m.\u001b[39mscatter(pca_comp_1, pca_comp_2, c\u001b[38;5;241m=\u001b[39mcolor)\n",
      "\u001b[0;31mKeyError\u001b[0m: 10"
     ]
    },
    {
     "data": {
      "image/png": "[encoded data removed]",
      "text/plain": [
       "<Figure size 432x288 with 1 Axes>"
      ]
     },
     "metadata": {
      "needs_background": "light"
     },
     "output_type": "display_data"
    }
   ],
   "source": [
    "reduced_data = PCA(n_components=pca_num_components).fit_transform(centroids)\n",
    "labels = range(0,k)\n",
    "\n",
    "fig, ax = plt.subplots()\n",
    "for index, instance in enumerate(reduced_data):\n",
    "    # print instance, index, labels[index]\n",
    "    pca_comp_1, pca_comp_2 = reduced_data[index]\n",
    "    color = labels_color_map[labels[index]]\n",
    "    #sns.scatterplot(pca_comp_1, pca_comp_2)\n",
    "    ax.scatter(pca_comp_1, pca_comp_2, c=color)\n",
    "plt.show()"
   ]
  },
  {
   "cell_type": "raw",
   "id": "fcecb9e3-0b12-4f21-8290-c292714b9a59",
   "metadata": {},
   "source": [
    "reduced_data = PCA(n_components=2).fit_transform(X)\n",
    "labels = model2.labels_\n",
    "X = TFIDF_matrix.todense()\n",
    "\n",
    "fig, ax = plt.subplots()\n",
    "for index, instance in enumerate(reduced_data):\n",
    "    # print instance, index, labels[index]\n",
    "    pca_comp_1, pca_comp_2 = reduced_data[index]\n",
    "    #color = labels_color_map[labels[index]]\n",
    "    ax.scatter(pca_comp_1, pca_comp_2, c=color)\n",
    "plt.show()"
   ]
  },
  {
   "cell_type": "markdown",
   "id": "e740b546-fc90-4820-acbc-4b880686a194",
   "metadata": {},
   "source": [
    "## TSNE PLOT"
   ]
  },
  {
   "cell_type": "code",
   "execution_count": 447,
   "id": "463b5fbb-bc1b-4e08-bb27-e4ab3fc27db0",
   "metadata": {},
   "outputs": [
    {
     "name": "stderr",
     "output_type": "stream",
     "text": [
      "/home/andrew/.local/lib/python3.8/site-packages/sklearn/manifold/_t_sne.py:780: FutureWarning: The default initialization in TSNE will change from 'random' to 'pca' in 1.2.\n",
      "  warnings.warn(\n",
      "/home/andrew/.local/lib/python3.8/site-packages/sklearn/manifold/_t_sne.py:790: FutureWarning: The default learning rate in TSNE will change from 200.0 to 'auto' in 1.2.\n",
      "  warnings.warn(\n",
      "/home/andrew/.local/lib/python3.8/site-packages/sklearn/utils/validation.py:593: FutureWarning: np.matrix usage is deprecated in 1.0 and will raise a TypeError in 1.2. Please convert to a numpy array with np.asarray. For more information see: https://numpy.org/doc/stable/reference/generated/numpy.matrix.html\n",
      "  warnings.warn(\n",
      "/home/andrew/.local/lib/python3.8/site-packages/seaborn/axisgrid.py:337: UserWarning: The `size` parameter has been renamed to `height`; please update your code.\n",
      "  warnings.warn(msg, UserWarning)\n"
     ]
    },
    {
     "data": {
      "image/png": "[encoded data removed]",
      "text/plain": [
       "<Figure size 490.375x432 with 1 Axes>"
      ]
     },
     "metadata": {
      "needs_background": "light"
     },
     "output_type": "display_data"
    }
   ],
   "source": [
    "# t-SNE plot\n",
    "TSNY_model = TSNE(n_components=tsne_num_components)\n",
    "Y = TSNY_model.fit_transform(X)\n",
    "results = np.vstack((Y.T,labels)).T\n",
    "df = pd.DataFrame(results, columns=(\"Dim_1\", \"Dim_2\", \"label\"))\n",
    "sns.FacetGrid(df, hue=\"label\", size = 6).map(plt.scatter, 'Dim_1', 'Dim_2').add_legend()\n",
    "#plt.scatter(Y[:, 0], Y[:, 1], cmap=plt.cm.Spectral)\n",
    "plt.show()"
   ]
  },
  {
   "cell_type": "code",
   "execution_count": null,
   "id": "d6ee8fba-c50b-4be6-9dad-dddf801345d7",
   "metadata": {},
   "outputs": [],
   "source": [
    "km.get_params(deep=True)"
   ]
  },
  {
   "cell_type": "code",
   "execution_count": null,
   "id": "6688ba23-99af-4246-b6bc-f5bc66d1a527",
   "metadata": {},
   "outputs": [],
   "source": [
    "k"
   ]
  },
  {
   "cell_type": "code",
   "execution_count": 294,
   "id": "6347652e-7865-49cb-9428-155a9b661b0a",
   "metadata": {},
   "outputs": [
    {
     "name": "stdout",
     "output_type": "stream",
     "text": [
      "Top terms per cluster:\n",
      "Cluster 0:\n",
      " government\n",
      " politics\n",
      " politics government\n",
      " states\n",
      " united\n",
      " united states\n",
      " murders\n",
      " travel\n",
      " people\n",
      " crimes\n",
      "Cluster 1:\n",
      " coronavirus\n",
      " epidemics\n",
      " china\n",
      " outbreak\n",
      " coronavirus epidemics\n",
      " cases\n",
      " virus\n",
      " health\n",
      " quarantines\n",
      " travel\n",
      "Cluster 2:\n",
      " impeachment\n",
      " impeachment inquiry\n",
      " inquiry\n",
      " whistleblower\n",
      " trumpukraine\n",
      " trumpukraine whistleblower\n",
      " complaint impeachment\n",
      " whistleblower complaint\n",
      " complaint\n",
      " trial\n",
      "Cluster 3:\n",
      " trade\n",
      " global\n",
      " world\n",
      " market\n",
      " world market\n",
      " trade world\n",
      " international trade\n",
      " warming\n",
      " global warming\n",
      " international\n",
      "Cluster 4:\n",
      " estate\n",
      " housing\n",
      " residential\n",
      " housing residential\n",
      " estate housing\n",
      " homes\n",
      " house\n",
      " renting\n",
      " renting leasing\n",
      " leasing\n",
      "Cluster 5:\n",
      " presidential\n",
      " election\n",
      " presidential election\n",
      " caucuses\n",
      " primaries\n",
      " primaries caucuses\n",
      " sanders\n",
      " election primaries\n",
      " political\n",
      " democratic\n",
      "Cluster 6:\n",
      " military\n",
      " forces\n",
      " defense\n",
      " defense military\n",
      " military forces\n",
      " states defense\n",
      " united states\n",
      " united\n",
      " states\n",
      " international\n"
     ]
    }
   ],
   "source": [
    "print(\"Top terms per cluster:\")\n",
    "#sort cluster centers by proximity to centroid\n",
    "order_centroids = model1.cluster_centers_.argsort()[:, ::-1] \n",
    "terms_dict=[]\n",
    "\n",
    "#save the terms for each cluster and document to dictionaries.  To be used later\n",
    "#for plotting output.\n",
    "\n",
    "#dictionary to store terms and titles\n",
    "cluster_terms={}\n",
    "cluster_title={}\n",
    "\n",
    "print_titles = False\n",
    "for i in range(k):\n",
    "    print(\"Cluster %d:\" % i),\n",
    "    temp_terms=[]\n",
    "    temp_titles=[]\n",
    "    for ind in order_centroids[i, :10]:\n",
    "        print(' %s' % terms[ind])\n",
    "        terms_dict.append(terms[ind])\n",
    "        temp_terms.append(terms[ind])\n",
    "    cluster_terms[i]=temp_terms\n",
    "    temp=frame[frame['Cluster']==i]\n",
    "    if print_titles:\n",
    "        print(\"Cluster %d titles:\" % i, end='')\n",
    "        \n",
    "    for title in temp['Doc Name']:\n",
    "        if print_titles:\n",
    "            print(' %s,' % title, end='')\n",
    "        temp_titles.append(title)\n",
    "        cluster_title[i]=temp_titles"
   ]
  },
  {
   "cell_type": "code",
   "execution_count": 295,
   "id": "5e770053-f97c-496c-96ea-bfb54ae33644",
   "metadata": {},
   "outputs": [
    {
     "data": {
      "text/plain": [
       "{0: ['government',\n",
       "  'politics',\n",
       "  'politics government',\n",
       "  'states',\n",
       "  'united',\n",
       "  'united states',\n",
       "  'murders',\n",
       "  'travel',\n",
       "  'people',\n",
       "  'crimes'],\n",
       " 1: ['coronavirus',\n",
       "  'epidemics',\n",
       "  'china',\n",
       "  'outbreak',\n",
       "  'coronavirus epidemics',\n",
       "  'cases',\n",
       "  'virus',\n",
       "  'health',\n",
       "  'quarantines',\n",
       "  'travel'],\n",
       " 2: ['impeachment',\n",
       "  'impeachment inquiry',\n",
       "  'inquiry',\n",
       "  'whistleblower',\n",
       "  'trumpukraine',\n",
       "  'trumpukraine whistleblower',\n",
       "  'complaint impeachment',\n",
       "  'whistleblower complaint',\n",
       "  'complaint',\n",
       "  'trial'],\n",
       " 3: ['trade',\n",
       "  'global',\n",
       "  'world',\n",
       "  'market',\n",
       "  'world market',\n",
       "  'trade world',\n",
       "  'international trade',\n",
       "  'warming',\n",
       "  'global warming',\n",
       "  'international'],\n",
       " 4: ['estate',\n",
       "  'housing',\n",
       "  'residential',\n",
       "  'housing residential',\n",
       "  'estate housing',\n",
       "  'homes',\n",
       "  'house',\n",
       "  'renting',\n",
       "  'renting leasing',\n",
       "  'leasing'],\n",
       " 5: ['presidential',\n",
       "  'election',\n",
       "  'presidential election',\n",
       "  'caucuses',\n",
       "  'primaries',\n",
       "  'primaries caucuses',\n",
       "  'sanders',\n",
       "  'election primaries',\n",
       "  'political',\n",
       "  'democratic'],\n",
       " 6: ['military',\n",
       "  'forces',\n",
       "  'defense',\n",
       "  'defense military',\n",
       "  'military forces',\n",
       "  'states defense',\n",
       "  'united states',\n",
       "  'united',\n",
       "  'states',\n",
       "  'international']}"
      ]
     },
     "execution_count": 295,
     "metadata": {},
     "output_type": "execute_result"
    }
   ],
   "source": [
    "cluster_terms"
   ]
  },
  {
   "cell_type": "code",
   "execution_count": null,
   "id": "906ab205-abbc-4227-b800-65b30fa99840",
   "metadata": {},
   "outputs": [],
   "source": [
    "pd.DataFrame(cluster_title[7]).to_csv(\"cluster7.csv\")"
   ]
  },
  {
   "cell_type": "code",
   "execution_count": null,
   "id": "222ed69a-eb75-4118-8a47-9854a02aee8b",
   "metadata": {},
   "outputs": [],
   "source": []
  }
 ],
 "metadata": {
  "kernelspec": {
   "display_name": "Python [conda env:NLP]",
   "language": "python",
   "name": "conda-env-NLP-py"
  },
  "language_info": {
   "codemirror_mode": {
    "name": "ipython",
    "version": 3
   },
   "file_extension": ".py",
   "mimetype": "text/x-python",
   "name": "python",
   "nbconvert_exporter": "python",
   "pygments_lexer": "ipython3",
   "version": "3.8.12"
  }
 },
 "nbformat": 4,
 "nbformat_minor": 5
}
